{
 "cells": [
  {
   "cell_type": "code",
   "execution_count": 22,
   "id": "initial_id",
   "metadata": {
    "ExecuteTime": {
     "end_time": "2024-10-30T13:41:56.781439100Z",
     "start_time": "2024-10-30T13:41:56.774469300Z"
    },
    "collapsed": true
   },
   "outputs": [
    {
     "name": "stdout",
     "output_type": "stream",
     "text": [
      "torch version : 2.4.1\n"
     ]
    }
   ],
   "source": [
    "import torch\n",
    "import torch.nn\n",
    "import torchvision\n",
    "\n",
    "from torch import nn\n",
    "from torchvision import transforms\n",
    "\n",
    "import matplotlib.pyplot as plt\n",
    "import os\n",
    "import random\n",
    "print(f\"torch version : {torch.__version__}\")"
   ]
  },
  {
   "cell_type": "code",
   "execution_count": 23,
   "id": "87fd3bf5fc9d2dc4",
   "metadata": {
    "collapsed": false
   },
   "outputs": [
    {
     "name": "stdout",
     "output_type": "stream",
     "text": [
      "Wed Oct 30 22:41:56 2024       \n",
      "+-----------------------------------------------------------------------------------------+\n",
      "| NVIDIA-SMI 560.94                 Driver Version: 560.94         CUDA Version: 12.6     |\n",
      "|-----------------------------------------+------------------------+----------------------+\n",
      "| GPU  Name                  Driver-Model | Bus-Id          Disp.A | Volatile Uncorr. ECC |\n",
      "| Fan  Temp   Perf          Pwr:Usage/Cap |           Memory-Usage | GPU-Util  Compute M. |\n",
      "|                                         |                        |               MIG M. |\n",
      "|=========================================+========================+======================|\n",
      "|   0  NVIDIA GeForce RTX 3090 Ti   WDDM  |   00000000:01:00.0  On |                  Off |\n",
      "|  0%   44C    P8             19W /  480W |     496MiB /  24564MiB |     12%      Default |\n",
      "|                                         |                        |                  N/A |\n",
      "+-----------------------------------------+------------------------+----------------------+\n",
      "                                                                                         \n",
      "+-----------------------------------------------------------------------------------------+\n",
      "| Processes:                                                                              |\n",
      "|  GPU   GI   CI        PID   Type   Process name                              GPU Memory |\n",
      "|        ID   ID                                                               Usage      |\n",
      "|=========================================================================================|\n",
      "|    0   N/A  N/A      1892    C+G   ...t.LockApp_cw5n1h2txyewy\\LockApp.exe      N/A      |\n",
      "|    0   N/A  N/A      3644    C+G   ...5n1h2txyewy\\ShellExperienceHost.exe      N/A      |\n",
      "|    0   N/A  N/A      5952    C+G   ...2txyewy\\StartMenuExperienceHost.exe      N/A      |\n",
      "|    0   N/A  N/A      6500    C+G   ...nt.CBS_cw5n1h2txyewy\\SearchHost.exe      N/A      |\n",
      "|    0   N/A  N/A      6932    C+G   ...cal\\Microsoft\\OneDrive\\OneDrive.exe      N/A      |\n",
      "|    0   N/A  N/A     10228    C+G   ...on\\129.0.2792.89\\msedgewebview2.exe      N/A      |\n",
      "|    0   N/A  N/A     12024    C+G   ...ekyb3d8bbwe\\PhoneExperienceHost.exe      N/A      |\n",
      "|    0   N/A  N/A     13352    C+G   ...CBS_cw5n1h2txyewy\\TextInputHost.exe      N/A      |\n",
      "|    0   N/A  N/A     13572    C+G   C:\\Windows\\explorer.exe                     N/A      |\n",
      "|    0   N/A  N/A     15460    C+G   ...Software\\Current\\LogiOptionsMgr.exe      N/A      |\n",
      "|    0   N/A  N/A     19968    C+G   ...\\PyCharm 2023.3.2\\bin\\pycharm64.exe      N/A      |\n",
      "|    0   N/A  N/A     20380    C+G   ...siveControlPanel\\SystemSettings.exe      N/A      |\n",
      "|    0   N/A  N/A     20552    C+G   ...ns\\Software\\Current\\LogiOverlay.exe      N/A      |\n",
      "+-----------------------------------------------------------------------------------------+\n"
     ]
    }
   ],
   "source": [
    "!nvidia-smi"
   ]
  },
  {
   "cell_type": "code",
   "execution_count": 24,
   "id": "8d3b964395ab42da",
   "metadata": {
    "ExecuteTime": {
     "end_time": "2024-10-30T13:41:57.109491500Z",
     "start_time": "2024-10-30T13:41:57.086491900Z"
    },
    "collapsed": false
   },
   "outputs": [
    {
     "data": {
      "text/plain": [
       "'cpu'"
      ]
     },
     "execution_count": 24,
     "metadata": {},
     "output_type": "execute_result"
    }
   ],
   "source": [
    "device = \"cuda\" if torch.cuda.is_available() else \"cpu\"\n",
    "device"
   ]
  },
  {
   "cell_type": "code",
   "execution_count": 25,
   "id": "63d93f8b16bebb58",
   "metadata": {
    "ExecuteTime": {
     "end_time": "2024-10-30T13:41:57.248490600Z",
     "start_time": "2024-10-30T13:41:57.238492300Z"
    },
    "collapsed": false
   },
   "outputs": [],
   "source": [
    "image_path = \"C:\\junha\\Personal_Notebook\\data\""
   ]
  },
  {
   "cell_type": "code",
   "execution_count": 26,
   "id": "927ddf018c7a2b7",
   "metadata": {
    "ExecuteTime": {
     "end_time": "2024-10-30T13:41:57.410492Z",
     "start_time": "2024-10-30T13:41:57.392491700Z"
    },
    "collapsed": false
   },
   "outputs": [],
   "source": [
    "# Try to get torchinfo, install it if it doesn't work\n",
    "try:\n",
    "    from torchinfo import summary\n",
    "except:\n",
    "    print(\"[INFO] Couldn't find torchinfo... installing it.\")\n",
    "    !pip install -q torchinfo\n",
    "    from torchinfo import summary\n",
    "\n",
    "# Try to import the going_modular directory, download it from GitHub if it doesn't work\n",
    "try:\n",
    "    from pytorch_modules.pytorch_modules import data_setup, engine\n",
    "    from helper_functions import download_data, set_seeds, plot_loss_curves\n",
    "except:\n",
    "    # Get the going_modular scripts\n",
    "    print(\"[INFO] Couldn't find going_modular or helper_functions scripts... downloading them from GitHub.\")\n",
    "    !git clone https://github.com/DutchVandaline/Artificial_Intelligence.git\n",
    "    !mv Artificial_Intelligence/pytorch_modules .\n",
    "    !mv Artificial_Intelligence/helper_functions.py . # get the helper_functions.py script\n",
    "    !rm -rf pytorch-deep-learning\n",
    "    from pytorch_modules.pytorch_modules import data_setup, engine\n",
    "    from helper_functions import download_data, set_seeds, plot_loss_curves"
   ]
  },
  {
   "cell_type": "code",
   "execution_count": 27,
   "id": "c90a6ddc33071a9e",
   "metadata": {
    "ExecuteTime": {
     "end_time": "2024-10-30T13:41:57.530491700Z",
     "start_time": "2024-10-30T13:41:57.518492200Z"
    },
    "collapsed": false
   },
   "outputs": [
    {
     "name": "stdout",
     "output_type": "stream",
     "text": [
      "There are 2 directoreis and 0 images in 'C:\\junha\\Personal_Notebook\\data'.\n",
      "There are 2 directoreis and 0 images in 'C:\\junha\\Personal_Notebook\\data\\test'.\n",
      "There are 0 directoreis and 397 images in 'C:\\junha\\Personal_Notebook\\data\\test\\defect'.\n",
      "There are 0 directoreis and 46 images in 'C:\\junha\\Personal_Notebook\\data\\test\\normal'.\n",
      "There are 2 directoreis and 0 images in 'C:\\junha\\Personal_Notebook\\data\\train'.\n",
      "There are 0 directoreis and 1585 images in 'C:\\junha\\Personal_Notebook\\data\\train\\defect'.\n",
      "There are 0 directoreis and 182 images in 'C:\\junha\\Personal_Notebook\\data\\train\\normal'.\n"
     ]
    }
   ],
   "source": [
    "# Count Image Data length\n",
    "import os\n",
    "def walk_through_dir(dir_path):\n",
    "  \"\"\" Walks through dir_path returning its conents.\"\"\"\n",
    "  for dirpath, dirnames, filenames in os.walk(dir_path):\n",
    "    print(f\"There are {len(dirnames)} directoreis and {len(filenames)} images in '{dirpath}'.\")\n",
    "walk_through_dir(image_path)"
   ]
  },
  {
   "cell_type": "code",
   "execution_count": 28,
   "id": "a8487cb0784b6345",
   "metadata": {
    "ExecuteTime": {
     "end_time": "2024-10-30T13:41:57.830491500Z",
     "start_time": "2024-10-30T13:41:57.685491700Z"
    },
    "collapsed": false
   },
   "outputs": [
    {
     "name": "stdout",
     "output_type": "stream",
     "text": [
      "Undersampled data made\n"
     ]
    }
   ],
   "source": [
    "# Cut train image's normal data into 221\n",
    "from shutil import copyfile\n",
    "from pathlib import Path\n",
    "\n",
    "defect_dir = Path(\"C:/junha/Personal_Notebook/data/train/defect\")\n",
    "normal_dir = Path(\"C:/junha/Personal_Notebook/data/train/normal\")\n",
    "\n",
    "defect_images = os.listdir(defect_dir)\n",
    "\n",
    "selected_images = random.sample(defect_images, 182)\n",
    "\n",
    "undersampling_train_dir = 'C:/junha/Personal_Notebook/undersampling_data/undersampling_train'\n",
    "os.makedirs(undersampling_train_dir, exist_ok=True)\n",
    "\n",
    "undersampling_train_defect_dir = os.path.join(undersampling_train_dir, 'defect')\n",
    "os.makedirs(undersampling_train_defect_dir, exist_ok=True)\n",
    "\n",
    "for image_name in selected_images:\n",
    "    src_path = os.path.join(defect_dir, image_name)\n",
    "    dst_path = os.path.join(undersampling_train_defect_dir, image_name)\n",
    "    copyfile(src_path, dst_path)\n",
    "\n",
    "undersampling_train_normal_dir = os.path.join(undersampling_train_dir, 'normal')\n",
    "os.makedirs(undersampling_train_normal_dir, exist_ok=True)\n",
    "\n",
    "normal_images = os.listdir(normal_dir)\n",
    "for image_name in normal_images:\n",
    "    src_path = os.path.join(normal_dir, image_name)\n",
    "    dst_path = os.path.join(undersampling_train_normal_dir, image_name)\n",
    "    copyfile(src_path, dst_path)\n",
    "print(\"Undersampled data made\")"
   ]
  },
  {
   "cell_type": "code",
   "execution_count": 29,
   "id": "cd7ebefc109c872e",
   "metadata": {
    "ExecuteTime": {
     "end_time": "2024-10-30T13:41:57.994492800Z",
     "start_time": "2024-10-30T13:41:57.950492800Z"
    },
    "collapsed": false
   },
   "outputs": [
    {
     "name": "stdout",
     "output_type": "stream",
     "text": [
      "Undersampled data made\n"
     ]
    }
   ],
   "source": [
    "# Cut train image's normal data into 221\n",
    "from shutil import copyfile\n",
    "from pathlib import Path\n",
    "\n",
    "defect_dir = Path(\"C:/junha/Personal_Notebook/data/test/defect\")\n",
    "normal_dir = Path(\"C:/junha/Personal_Notebook/data/test/normal\")\n",
    "\n",
    "defect_images = os.listdir(defect_dir)\n",
    "\n",
    "selected_images = random.sample(defect_images, 46)\n",
    "\n",
    "undersampling_test_dir = 'C:/junha/Personal_Notebook/undersampling_data/undersampling_test'\n",
    "os.makedirs(undersampling_test_dir, exist_ok=True)\n",
    "\n",
    "undersampling_test_defect_dir = os.path.join(undersampling_test_dir, 'defect')\n",
    "os.makedirs(undersampling_test_defect_dir, exist_ok=True)\n",
    "\n",
    "for image_name in selected_images:\n",
    "    src_path = os.path.join(defect_dir, image_name)\n",
    "    dst_path = os.path.join(undersampling_test_defect_dir, image_name)\n",
    "    copyfile(src_path, dst_path)\n",
    "\n",
    "undersampling_test_normal_dir = os.path.join(undersampling_test_dir, 'normal')\n",
    "os.makedirs(undersampling_test_normal_dir, exist_ok=True)\n",
    "\n",
    "normal_images = os.listdir(normal_dir)\n",
    "for image_name in normal_images:\n",
    "    src_path = os.path.join(normal_dir, image_name)\n",
    "    dst_path = os.path.join(undersampling_test_normal_dir, image_name)\n",
    "    copyfile(src_path, dst_path)\n",
    "print(\"Undersampled data made\")"
   ]
  },
  {
   "cell_type": "code",
   "execution_count": 30,
   "id": "f2ba1b221bfe4b4d",
   "metadata": {
    "ExecuteTime": {
     "end_time": "2024-10-30T13:41:58.281491Z",
     "start_time": "2024-10-30T13:41:58.262492400Z"
    },
    "collapsed": false
   },
   "outputs": [],
   "source": [
    "undersampling_image_path = 'C:/junha/Personal_Notebook/undersampling_data'"
   ]
  },
  {
   "cell_type": "code",
   "execution_count": 31,
   "id": "84e213647bd0f70e",
   "metadata": {
    "ExecuteTime": {
     "end_time": "2024-10-30T13:41:58.446491100Z",
     "start_time": "2024-10-30T13:41:58.424492200Z"
    },
    "collapsed": false
   },
   "outputs": [
    {
     "name": "stdout",
     "output_type": "stream",
     "text": [
      "There are 2 directoreis and 0 images in 'C:/junha/Personal_Notebook/undersampling_data'.\n",
      "There are 2 directoreis and 0 images in 'C:/junha/Personal_Notebook/undersampling_data\\undersampling_test'.\n",
      "There are 0 directoreis and 46 images in 'C:/junha/Personal_Notebook/undersampling_data\\undersampling_test\\defect'.\n",
      "There are 0 directoreis and 46 images in 'C:/junha/Personal_Notebook/undersampling_data\\undersampling_test\\normal'.\n",
      "There are 2 directoreis and 0 images in 'C:/junha/Personal_Notebook/undersampling_data\\undersampling_train'.\n",
      "There are 0 directoreis and 182 images in 'C:/junha/Personal_Notebook/undersampling_data\\undersampling_train\\defect'.\n",
      "There are 0 directoreis and 182 images in 'C:/junha/Personal_Notebook/undersampling_data\\undersampling_train\\normal'.\n"
     ]
    }
   ],
   "source": [
    "# Count Image Data length\n",
    "import os\n",
    "def walk_through_dir(dir_path):\n",
    "  \"\"\" Walks through dir_path returning its conents.\"\"\"\n",
    "  for dirpath, dirnames, filenames in os.walk(dir_path):\n",
    "    print(f\"There are {len(dirnames)} directoreis and {len(filenames)} images in '{dirpath}'.\")\n",
    "walk_through_dir(undersampling_image_path)"
   ]
  },
  {
   "cell_type": "code",
   "execution_count": 32,
   "id": "e129b28982121bf4",
   "metadata": {
    "ExecuteTime": {
     "end_time": "2024-10-30T13:41:58.593491800Z",
     "start_time": "2024-10-30T13:41:58.490492100Z"
    },
    "collapsed": false
   },
   "outputs": [
    {
     "data": {
      "text/plain": [
       "EfficientNet(\n",
       "  (features): Sequential(\n",
       "    (0): Conv2dNormActivation(\n",
       "      (0): Conv2d(3, 32, kernel_size=(3, 3), stride=(2, 2), padding=(1, 1), bias=False)\n",
       "      (1): BatchNorm2d(32, eps=1e-05, momentum=0.1, affine=True, track_running_stats=True)\n",
       "      (2): SiLU(inplace=True)\n",
       "    )\n",
       "    (1): Sequential(\n",
       "      (0): MBConv(\n",
       "        (block): Sequential(\n",
       "          (0): Conv2dNormActivation(\n",
       "            (0): Conv2d(32, 32, kernel_size=(3, 3), stride=(1, 1), padding=(1, 1), groups=32, bias=False)\n",
       "            (1): BatchNorm2d(32, eps=1e-05, momentum=0.1, affine=True, track_running_stats=True)\n",
       "            (2): SiLU(inplace=True)\n",
       "          )\n",
       "          (1): SqueezeExcitation(\n",
       "            (avgpool): AdaptiveAvgPool2d(output_size=1)\n",
       "            (fc1): Conv2d(32, 8, kernel_size=(1, 1), stride=(1, 1))\n",
       "            (fc2): Conv2d(8, 32, kernel_size=(1, 1), stride=(1, 1))\n",
       "            (activation): SiLU(inplace=True)\n",
       "            (scale_activation): Sigmoid()\n",
       "          )\n",
       "          (2): Conv2dNormActivation(\n",
       "            (0): Conv2d(32, 16, kernel_size=(1, 1), stride=(1, 1), bias=False)\n",
       "            (1): BatchNorm2d(16, eps=1e-05, momentum=0.1, affine=True, track_running_stats=True)\n",
       "          )\n",
       "        )\n",
       "        (stochastic_depth): StochasticDepth(p=0.0, mode=row)\n",
       "      )\n",
       "    )\n",
       "    (2): Sequential(\n",
       "      (0): MBConv(\n",
       "        (block): Sequential(\n",
       "          (0): Conv2dNormActivation(\n",
       "            (0): Conv2d(16, 96, kernel_size=(1, 1), stride=(1, 1), bias=False)\n",
       "            (1): BatchNorm2d(96, eps=1e-05, momentum=0.1, affine=True, track_running_stats=True)\n",
       "            (2): SiLU(inplace=True)\n",
       "          )\n",
       "          (1): Conv2dNormActivation(\n",
       "            (0): Conv2d(96, 96, kernel_size=(3, 3), stride=(2, 2), padding=(1, 1), groups=96, bias=False)\n",
       "            (1): BatchNorm2d(96, eps=1e-05, momentum=0.1, affine=True, track_running_stats=True)\n",
       "            (2): SiLU(inplace=True)\n",
       "          )\n",
       "          (2): SqueezeExcitation(\n",
       "            (avgpool): AdaptiveAvgPool2d(output_size=1)\n",
       "            (fc1): Conv2d(96, 4, kernel_size=(1, 1), stride=(1, 1))\n",
       "            (fc2): Conv2d(4, 96, kernel_size=(1, 1), stride=(1, 1))\n",
       "            (activation): SiLU(inplace=True)\n",
       "            (scale_activation): Sigmoid()\n",
       "          )\n",
       "          (3): Conv2dNormActivation(\n",
       "            (0): Conv2d(96, 24, kernel_size=(1, 1), stride=(1, 1), bias=False)\n",
       "            (1): BatchNorm2d(24, eps=1e-05, momentum=0.1, affine=True, track_running_stats=True)\n",
       "          )\n",
       "        )\n",
       "        (stochastic_depth): StochasticDepth(p=0.0125, mode=row)\n",
       "      )\n",
       "      (1): MBConv(\n",
       "        (block): Sequential(\n",
       "          (0): Conv2dNormActivation(\n",
       "            (0): Conv2d(24, 144, kernel_size=(1, 1), stride=(1, 1), bias=False)\n",
       "            (1): BatchNorm2d(144, eps=1e-05, momentum=0.1, affine=True, track_running_stats=True)\n",
       "            (2): SiLU(inplace=True)\n",
       "          )\n",
       "          (1): Conv2dNormActivation(\n",
       "            (0): Conv2d(144, 144, kernel_size=(3, 3), stride=(1, 1), padding=(1, 1), groups=144, bias=False)\n",
       "            (1): BatchNorm2d(144, eps=1e-05, momentum=0.1, affine=True, track_running_stats=True)\n",
       "            (2): SiLU(inplace=True)\n",
       "          )\n",
       "          (2): SqueezeExcitation(\n",
       "            (avgpool): AdaptiveAvgPool2d(output_size=1)\n",
       "            (fc1): Conv2d(144, 6, kernel_size=(1, 1), stride=(1, 1))\n",
       "            (fc2): Conv2d(6, 144, kernel_size=(1, 1), stride=(1, 1))\n",
       "            (activation): SiLU(inplace=True)\n",
       "            (scale_activation): Sigmoid()\n",
       "          )\n",
       "          (3): Conv2dNormActivation(\n",
       "            (0): Conv2d(144, 24, kernel_size=(1, 1), stride=(1, 1), bias=False)\n",
       "            (1): BatchNorm2d(24, eps=1e-05, momentum=0.1, affine=True, track_running_stats=True)\n",
       "          )\n",
       "        )\n",
       "        (stochastic_depth): StochasticDepth(p=0.025, mode=row)\n",
       "      )\n",
       "    )\n",
       "    (3): Sequential(\n",
       "      (0): MBConv(\n",
       "        (block): Sequential(\n",
       "          (0): Conv2dNormActivation(\n",
       "            (0): Conv2d(24, 144, kernel_size=(1, 1), stride=(1, 1), bias=False)\n",
       "            (1): BatchNorm2d(144, eps=1e-05, momentum=0.1, affine=True, track_running_stats=True)\n",
       "            (2): SiLU(inplace=True)\n",
       "          )\n",
       "          (1): Conv2dNormActivation(\n",
       "            (0): Conv2d(144, 144, kernel_size=(5, 5), stride=(2, 2), padding=(2, 2), groups=144, bias=False)\n",
       "            (1): BatchNorm2d(144, eps=1e-05, momentum=0.1, affine=True, track_running_stats=True)\n",
       "            (2): SiLU(inplace=True)\n",
       "          )\n",
       "          (2): SqueezeExcitation(\n",
       "            (avgpool): AdaptiveAvgPool2d(output_size=1)\n",
       "            (fc1): Conv2d(144, 6, kernel_size=(1, 1), stride=(1, 1))\n",
       "            (fc2): Conv2d(6, 144, kernel_size=(1, 1), stride=(1, 1))\n",
       "            (activation): SiLU(inplace=True)\n",
       "            (scale_activation): Sigmoid()\n",
       "          )\n",
       "          (3): Conv2dNormActivation(\n",
       "            (0): Conv2d(144, 40, kernel_size=(1, 1), stride=(1, 1), bias=False)\n",
       "            (1): BatchNorm2d(40, eps=1e-05, momentum=0.1, affine=True, track_running_stats=True)\n",
       "          )\n",
       "        )\n",
       "        (stochastic_depth): StochasticDepth(p=0.037500000000000006, mode=row)\n",
       "      )\n",
       "      (1): MBConv(\n",
       "        (block): Sequential(\n",
       "          (0): Conv2dNormActivation(\n",
       "            (0): Conv2d(40, 240, kernel_size=(1, 1), stride=(1, 1), bias=False)\n",
       "            (1): BatchNorm2d(240, eps=1e-05, momentum=0.1, affine=True, track_running_stats=True)\n",
       "            (2): SiLU(inplace=True)\n",
       "          )\n",
       "          (1): Conv2dNormActivation(\n",
       "            (0): Conv2d(240, 240, kernel_size=(5, 5), stride=(1, 1), padding=(2, 2), groups=240, bias=False)\n",
       "            (1): BatchNorm2d(240, eps=1e-05, momentum=0.1, affine=True, track_running_stats=True)\n",
       "            (2): SiLU(inplace=True)\n",
       "          )\n",
       "          (2): SqueezeExcitation(\n",
       "            (avgpool): AdaptiveAvgPool2d(output_size=1)\n",
       "            (fc1): Conv2d(240, 10, kernel_size=(1, 1), stride=(1, 1))\n",
       "            (fc2): Conv2d(10, 240, kernel_size=(1, 1), stride=(1, 1))\n",
       "            (activation): SiLU(inplace=True)\n",
       "            (scale_activation): Sigmoid()\n",
       "          )\n",
       "          (3): Conv2dNormActivation(\n",
       "            (0): Conv2d(240, 40, kernel_size=(1, 1), stride=(1, 1), bias=False)\n",
       "            (1): BatchNorm2d(40, eps=1e-05, momentum=0.1, affine=True, track_running_stats=True)\n",
       "          )\n",
       "        )\n",
       "        (stochastic_depth): StochasticDepth(p=0.05, mode=row)\n",
       "      )\n",
       "    )\n",
       "    (4): Sequential(\n",
       "      (0): MBConv(\n",
       "        (block): Sequential(\n",
       "          (0): Conv2dNormActivation(\n",
       "            (0): Conv2d(40, 240, kernel_size=(1, 1), stride=(1, 1), bias=False)\n",
       "            (1): BatchNorm2d(240, eps=1e-05, momentum=0.1, affine=True, track_running_stats=True)\n",
       "            (2): SiLU(inplace=True)\n",
       "          )\n",
       "          (1): Conv2dNormActivation(\n",
       "            (0): Conv2d(240, 240, kernel_size=(3, 3), stride=(2, 2), padding=(1, 1), groups=240, bias=False)\n",
       "            (1): BatchNorm2d(240, eps=1e-05, momentum=0.1, affine=True, track_running_stats=True)\n",
       "            (2): SiLU(inplace=True)\n",
       "          )\n",
       "          (2): SqueezeExcitation(\n",
       "            (avgpool): AdaptiveAvgPool2d(output_size=1)\n",
       "            (fc1): Conv2d(240, 10, kernel_size=(1, 1), stride=(1, 1))\n",
       "            (fc2): Conv2d(10, 240, kernel_size=(1, 1), stride=(1, 1))\n",
       "            (activation): SiLU(inplace=True)\n",
       "            (scale_activation): Sigmoid()\n",
       "          )\n",
       "          (3): Conv2dNormActivation(\n",
       "            (0): Conv2d(240, 80, kernel_size=(1, 1), stride=(1, 1), bias=False)\n",
       "            (1): BatchNorm2d(80, eps=1e-05, momentum=0.1, affine=True, track_running_stats=True)\n",
       "          )\n",
       "        )\n",
       "        (stochastic_depth): StochasticDepth(p=0.0625, mode=row)\n",
       "      )\n",
       "      (1): MBConv(\n",
       "        (block): Sequential(\n",
       "          (0): Conv2dNormActivation(\n",
       "            (0): Conv2d(80, 480, kernel_size=(1, 1), stride=(1, 1), bias=False)\n",
       "            (1): BatchNorm2d(480, eps=1e-05, momentum=0.1, affine=True, track_running_stats=True)\n",
       "            (2): SiLU(inplace=True)\n",
       "          )\n",
       "          (1): Conv2dNormActivation(\n",
       "            (0): Conv2d(480, 480, kernel_size=(3, 3), stride=(1, 1), padding=(1, 1), groups=480, bias=False)\n",
       "            (1): BatchNorm2d(480, eps=1e-05, momentum=0.1, affine=True, track_running_stats=True)\n",
       "            (2): SiLU(inplace=True)\n",
       "          )\n",
       "          (2): SqueezeExcitation(\n",
       "            (avgpool): AdaptiveAvgPool2d(output_size=1)\n",
       "            (fc1): Conv2d(480, 20, kernel_size=(1, 1), stride=(1, 1))\n",
       "            (fc2): Conv2d(20, 480, kernel_size=(1, 1), stride=(1, 1))\n",
       "            (activation): SiLU(inplace=True)\n",
       "            (scale_activation): Sigmoid()\n",
       "          )\n",
       "          (3): Conv2dNormActivation(\n",
       "            (0): Conv2d(480, 80, kernel_size=(1, 1), stride=(1, 1), bias=False)\n",
       "            (1): BatchNorm2d(80, eps=1e-05, momentum=0.1, affine=True, track_running_stats=True)\n",
       "          )\n",
       "        )\n",
       "        (stochastic_depth): StochasticDepth(p=0.07500000000000001, mode=row)\n",
       "      )\n",
       "      (2): MBConv(\n",
       "        (block): Sequential(\n",
       "          (0): Conv2dNormActivation(\n",
       "            (0): Conv2d(80, 480, kernel_size=(1, 1), stride=(1, 1), bias=False)\n",
       "            (1): BatchNorm2d(480, eps=1e-05, momentum=0.1, affine=True, track_running_stats=True)\n",
       "            (2): SiLU(inplace=True)\n",
       "          )\n",
       "          (1): Conv2dNormActivation(\n",
       "            (0): Conv2d(480, 480, kernel_size=(3, 3), stride=(1, 1), padding=(1, 1), groups=480, bias=False)\n",
       "            (1): BatchNorm2d(480, eps=1e-05, momentum=0.1, affine=True, track_running_stats=True)\n",
       "            (2): SiLU(inplace=True)\n",
       "          )\n",
       "          (2): SqueezeExcitation(\n",
       "            (avgpool): AdaptiveAvgPool2d(output_size=1)\n",
       "            (fc1): Conv2d(480, 20, kernel_size=(1, 1), stride=(1, 1))\n",
       "            (fc2): Conv2d(20, 480, kernel_size=(1, 1), stride=(1, 1))\n",
       "            (activation): SiLU(inplace=True)\n",
       "            (scale_activation): Sigmoid()\n",
       "          )\n",
       "          (3): Conv2dNormActivation(\n",
       "            (0): Conv2d(480, 80, kernel_size=(1, 1), stride=(1, 1), bias=False)\n",
       "            (1): BatchNorm2d(80, eps=1e-05, momentum=0.1, affine=True, track_running_stats=True)\n",
       "          )\n",
       "        )\n",
       "        (stochastic_depth): StochasticDepth(p=0.08750000000000001, mode=row)\n",
       "      )\n",
       "    )\n",
       "    (5): Sequential(\n",
       "      (0): MBConv(\n",
       "        (block): Sequential(\n",
       "          (0): Conv2dNormActivation(\n",
       "            (0): Conv2d(80, 480, kernel_size=(1, 1), stride=(1, 1), bias=False)\n",
       "            (1): BatchNorm2d(480, eps=1e-05, momentum=0.1, affine=True, track_running_stats=True)\n",
       "            (2): SiLU(inplace=True)\n",
       "          )\n",
       "          (1): Conv2dNormActivation(\n",
       "            (0): Conv2d(480, 480, kernel_size=(5, 5), stride=(1, 1), padding=(2, 2), groups=480, bias=False)\n",
       "            (1): BatchNorm2d(480, eps=1e-05, momentum=0.1, affine=True, track_running_stats=True)\n",
       "            (2): SiLU(inplace=True)\n",
       "          )\n",
       "          (2): SqueezeExcitation(\n",
       "            (avgpool): AdaptiveAvgPool2d(output_size=1)\n",
       "            (fc1): Conv2d(480, 20, kernel_size=(1, 1), stride=(1, 1))\n",
       "            (fc2): Conv2d(20, 480, kernel_size=(1, 1), stride=(1, 1))\n",
       "            (activation): SiLU(inplace=True)\n",
       "            (scale_activation): Sigmoid()\n",
       "          )\n",
       "          (3): Conv2dNormActivation(\n",
       "            (0): Conv2d(480, 112, kernel_size=(1, 1), stride=(1, 1), bias=False)\n",
       "            (1): BatchNorm2d(112, eps=1e-05, momentum=0.1, affine=True, track_running_stats=True)\n",
       "          )\n",
       "        )\n",
       "        (stochastic_depth): StochasticDepth(p=0.1, mode=row)\n",
       "      )\n",
       "      (1): MBConv(\n",
       "        (block): Sequential(\n",
       "          (0): Conv2dNormActivation(\n",
       "            (0): Conv2d(112, 672, kernel_size=(1, 1), stride=(1, 1), bias=False)\n",
       "            (1): BatchNorm2d(672, eps=1e-05, momentum=0.1, affine=True, track_running_stats=True)\n",
       "            (2): SiLU(inplace=True)\n",
       "          )\n",
       "          (1): Conv2dNormActivation(\n",
       "            (0): Conv2d(672, 672, kernel_size=(5, 5), stride=(1, 1), padding=(2, 2), groups=672, bias=False)\n",
       "            (1): BatchNorm2d(672, eps=1e-05, momentum=0.1, affine=True, track_running_stats=True)\n",
       "            (2): SiLU(inplace=True)\n",
       "          )\n",
       "          (2): SqueezeExcitation(\n",
       "            (avgpool): AdaptiveAvgPool2d(output_size=1)\n",
       "            (fc1): Conv2d(672, 28, kernel_size=(1, 1), stride=(1, 1))\n",
       "            (fc2): Conv2d(28, 672, kernel_size=(1, 1), stride=(1, 1))\n",
       "            (activation): SiLU(inplace=True)\n",
       "            (scale_activation): Sigmoid()\n",
       "          )\n",
       "          (3): Conv2dNormActivation(\n",
       "            (0): Conv2d(672, 112, kernel_size=(1, 1), stride=(1, 1), bias=False)\n",
       "            (1): BatchNorm2d(112, eps=1e-05, momentum=0.1, affine=True, track_running_stats=True)\n",
       "          )\n",
       "        )\n",
       "        (stochastic_depth): StochasticDepth(p=0.1125, mode=row)\n",
       "      )\n",
       "      (2): MBConv(\n",
       "        (block): Sequential(\n",
       "          (0): Conv2dNormActivation(\n",
       "            (0): Conv2d(112, 672, kernel_size=(1, 1), stride=(1, 1), bias=False)\n",
       "            (1): BatchNorm2d(672, eps=1e-05, momentum=0.1, affine=True, track_running_stats=True)\n",
       "            (2): SiLU(inplace=True)\n",
       "          )\n",
       "          (1): Conv2dNormActivation(\n",
       "            (0): Conv2d(672, 672, kernel_size=(5, 5), stride=(1, 1), padding=(2, 2), groups=672, bias=False)\n",
       "            (1): BatchNorm2d(672, eps=1e-05, momentum=0.1, affine=True, track_running_stats=True)\n",
       "            (2): SiLU(inplace=True)\n",
       "          )\n",
       "          (2): SqueezeExcitation(\n",
       "            (avgpool): AdaptiveAvgPool2d(output_size=1)\n",
       "            (fc1): Conv2d(672, 28, kernel_size=(1, 1), stride=(1, 1))\n",
       "            (fc2): Conv2d(28, 672, kernel_size=(1, 1), stride=(1, 1))\n",
       "            (activation): SiLU(inplace=True)\n",
       "            (scale_activation): Sigmoid()\n",
       "          )\n",
       "          (3): Conv2dNormActivation(\n",
       "            (0): Conv2d(672, 112, kernel_size=(1, 1), stride=(1, 1), bias=False)\n",
       "            (1): BatchNorm2d(112, eps=1e-05, momentum=0.1, affine=True, track_running_stats=True)\n",
       "          )\n",
       "        )\n",
       "        (stochastic_depth): StochasticDepth(p=0.125, mode=row)\n",
       "      )\n",
       "    )\n",
       "    (6): Sequential(\n",
       "      (0): MBConv(\n",
       "        (block): Sequential(\n",
       "          (0): Conv2dNormActivation(\n",
       "            (0): Conv2d(112, 672, kernel_size=(1, 1), stride=(1, 1), bias=False)\n",
       "            (1): BatchNorm2d(672, eps=1e-05, momentum=0.1, affine=True, track_running_stats=True)\n",
       "            (2): SiLU(inplace=True)\n",
       "          )\n",
       "          (1): Conv2dNormActivation(\n",
       "            (0): Conv2d(672, 672, kernel_size=(5, 5), stride=(2, 2), padding=(2, 2), groups=672, bias=False)\n",
       "            (1): BatchNorm2d(672, eps=1e-05, momentum=0.1, affine=True, track_running_stats=True)\n",
       "            (2): SiLU(inplace=True)\n",
       "          )\n",
       "          (2): SqueezeExcitation(\n",
       "            (avgpool): AdaptiveAvgPool2d(output_size=1)\n",
       "            (fc1): Conv2d(672, 28, kernel_size=(1, 1), stride=(1, 1))\n",
       "            (fc2): Conv2d(28, 672, kernel_size=(1, 1), stride=(1, 1))\n",
       "            (activation): SiLU(inplace=True)\n",
       "            (scale_activation): Sigmoid()\n",
       "          )\n",
       "          (3): Conv2dNormActivation(\n",
       "            (0): Conv2d(672, 192, kernel_size=(1, 1), stride=(1, 1), bias=False)\n",
       "            (1): BatchNorm2d(192, eps=1e-05, momentum=0.1, affine=True, track_running_stats=True)\n",
       "          )\n",
       "        )\n",
       "        (stochastic_depth): StochasticDepth(p=0.1375, mode=row)\n",
       "      )\n",
       "      (1): MBConv(\n",
       "        (block): Sequential(\n",
       "          (0): Conv2dNormActivation(\n",
       "            (0): Conv2d(192, 1152, kernel_size=(1, 1), stride=(1, 1), bias=False)\n",
       "            (1): BatchNorm2d(1152, eps=1e-05, momentum=0.1, affine=True, track_running_stats=True)\n",
       "            (2): SiLU(inplace=True)\n",
       "          )\n",
       "          (1): Conv2dNormActivation(\n",
       "            (0): Conv2d(1152, 1152, kernel_size=(5, 5), stride=(1, 1), padding=(2, 2), groups=1152, bias=False)\n",
       "            (1): BatchNorm2d(1152, eps=1e-05, momentum=0.1, affine=True, track_running_stats=True)\n",
       "            (2): SiLU(inplace=True)\n",
       "          )\n",
       "          (2): SqueezeExcitation(\n",
       "            (avgpool): AdaptiveAvgPool2d(output_size=1)\n",
       "            (fc1): Conv2d(1152, 48, kernel_size=(1, 1), stride=(1, 1))\n",
       "            (fc2): Conv2d(48, 1152, kernel_size=(1, 1), stride=(1, 1))\n",
       "            (activation): SiLU(inplace=True)\n",
       "            (scale_activation): Sigmoid()\n",
       "          )\n",
       "          (3): Conv2dNormActivation(\n",
       "            (0): Conv2d(1152, 192, kernel_size=(1, 1), stride=(1, 1), bias=False)\n",
       "            (1): BatchNorm2d(192, eps=1e-05, momentum=0.1, affine=True, track_running_stats=True)\n",
       "          )\n",
       "        )\n",
       "        (stochastic_depth): StochasticDepth(p=0.15000000000000002, mode=row)\n",
       "      )\n",
       "      (2): MBConv(\n",
       "        (block): Sequential(\n",
       "          (0): Conv2dNormActivation(\n",
       "            (0): Conv2d(192, 1152, kernel_size=(1, 1), stride=(1, 1), bias=False)\n",
       "            (1): BatchNorm2d(1152, eps=1e-05, momentum=0.1, affine=True, track_running_stats=True)\n",
       "            (2): SiLU(inplace=True)\n",
       "          )\n",
       "          (1): Conv2dNormActivation(\n",
       "            (0): Conv2d(1152, 1152, kernel_size=(5, 5), stride=(1, 1), padding=(2, 2), groups=1152, bias=False)\n",
       "            (1): BatchNorm2d(1152, eps=1e-05, momentum=0.1, affine=True, track_running_stats=True)\n",
       "            (2): SiLU(inplace=True)\n",
       "          )\n",
       "          (2): SqueezeExcitation(\n",
       "            (avgpool): AdaptiveAvgPool2d(output_size=1)\n",
       "            (fc1): Conv2d(1152, 48, kernel_size=(1, 1), stride=(1, 1))\n",
       "            (fc2): Conv2d(48, 1152, kernel_size=(1, 1), stride=(1, 1))\n",
       "            (activation): SiLU(inplace=True)\n",
       "            (scale_activation): Sigmoid()\n",
       "          )\n",
       "          (3): Conv2dNormActivation(\n",
       "            (0): Conv2d(1152, 192, kernel_size=(1, 1), stride=(1, 1), bias=False)\n",
       "            (1): BatchNorm2d(192, eps=1e-05, momentum=0.1, affine=True, track_running_stats=True)\n",
       "          )\n",
       "        )\n",
       "        (stochastic_depth): StochasticDepth(p=0.1625, mode=row)\n",
       "      )\n",
       "      (3): MBConv(\n",
       "        (block): Sequential(\n",
       "          (0): Conv2dNormActivation(\n",
       "            (0): Conv2d(192, 1152, kernel_size=(1, 1), stride=(1, 1), bias=False)\n",
       "            (1): BatchNorm2d(1152, eps=1e-05, momentum=0.1, affine=True, track_running_stats=True)\n",
       "            (2): SiLU(inplace=True)\n",
       "          )\n",
       "          (1): Conv2dNormActivation(\n",
       "            (0): Conv2d(1152, 1152, kernel_size=(5, 5), stride=(1, 1), padding=(2, 2), groups=1152, bias=False)\n",
       "            (1): BatchNorm2d(1152, eps=1e-05, momentum=0.1, affine=True, track_running_stats=True)\n",
       "            (2): SiLU(inplace=True)\n",
       "          )\n",
       "          (2): SqueezeExcitation(\n",
       "            (avgpool): AdaptiveAvgPool2d(output_size=1)\n",
       "            (fc1): Conv2d(1152, 48, kernel_size=(1, 1), stride=(1, 1))\n",
       "            (fc2): Conv2d(48, 1152, kernel_size=(1, 1), stride=(1, 1))\n",
       "            (activation): SiLU(inplace=True)\n",
       "            (scale_activation): Sigmoid()\n",
       "          )\n",
       "          (3): Conv2dNormActivation(\n",
       "            (0): Conv2d(1152, 192, kernel_size=(1, 1), stride=(1, 1), bias=False)\n",
       "            (1): BatchNorm2d(192, eps=1e-05, momentum=0.1, affine=True, track_running_stats=True)\n",
       "          )\n",
       "        )\n",
       "        (stochastic_depth): StochasticDepth(p=0.17500000000000002, mode=row)\n",
       "      )\n",
       "    )\n",
       "    (7): Sequential(\n",
       "      (0): MBConv(\n",
       "        (block): Sequential(\n",
       "          (0): Conv2dNormActivation(\n",
       "            (0): Conv2d(192, 1152, kernel_size=(1, 1), stride=(1, 1), bias=False)\n",
       "            (1): BatchNorm2d(1152, eps=1e-05, momentum=0.1, affine=True, track_running_stats=True)\n",
       "            (2): SiLU(inplace=True)\n",
       "          )\n",
       "          (1): Conv2dNormActivation(\n",
       "            (0): Conv2d(1152, 1152, kernel_size=(3, 3), stride=(1, 1), padding=(1, 1), groups=1152, bias=False)\n",
       "            (1): BatchNorm2d(1152, eps=1e-05, momentum=0.1, affine=True, track_running_stats=True)\n",
       "            (2): SiLU(inplace=True)\n",
       "          )\n",
       "          (2): SqueezeExcitation(\n",
       "            (avgpool): AdaptiveAvgPool2d(output_size=1)\n",
       "            (fc1): Conv2d(1152, 48, kernel_size=(1, 1), stride=(1, 1))\n",
       "            (fc2): Conv2d(48, 1152, kernel_size=(1, 1), stride=(1, 1))\n",
       "            (activation): SiLU(inplace=True)\n",
       "            (scale_activation): Sigmoid()\n",
       "          )\n",
       "          (3): Conv2dNormActivation(\n",
       "            (0): Conv2d(1152, 320, kernel_size=(1, 1), stride=(1, 1), bias=False)\n",
       "            (1): BatchNorm2d(320, eps=1e-05, momentum=0.1, affine=True, track_running_stats=True)\n",
       "          )\n",
       "        )\n",
       "        (stochastic_depth): StochasticDepth(p=0.1875, mode=row)\n",
       "      )\n",
       "    )\n",
       "    (8): Conv2dNormActivation(\n",
       "      (0): Conv2d(320, 1280, kernel_size=(1, 1), stride=(1, 1), bias=False)\n",
       "      (1): BatchNorm2d(1280, eps=1e-05, momentum=0.1, affine=True, track_running_stats=True)\n",
       "      (2): SiLU(inplace=True)\n",
       "    )\n",
       "  )\n",
       "  (avgpool): AdaptiveAvgPool2d(output_size=1)\n",
       "  (classifier): Sequential(\n",
       "    (0): Dropout(p=0.2, inplace=True)\n",
       "    (1): Linear(in_features=1280, out_features=1000, bias=True)\n",
       "  )\n",
       ")"
      ]
     },
     "execution_count": 32,
     "metadata": {},
     "output_type": "execute_result"
    }
   ],
   "source": [
    "efficientNet_weights = torchvision.models.EfficientNet_B0_Weights.DEFAULT\n",
    "efficientNet = torchvision.models.efficientnet_b0(weights=efficientNet_weights)\n",
    "efficientNet"
   ]
  },
  {
   "cell_type": "code",
   "execution_count": 33,
   "id": "fa15f3bbb33fe741",
   "metadata": {
    "ExecuteTime": {
     "end_time": "2024-10-30T13:41:58.684491700Z",
     "start_time": "2024-10-30T13:41:58.681491600Z"
    },
    "collapsed": false
   },
   "outputs": [
    {
     "data": {
      "text/plain": [
       "ImageClassification(\n",
       "    crop_size=[224]\n",
       "    resize_size=[256]\n",
       "    mean=[0.485, 0.456, 0.406]\n",
       "    std=[0.229, 0.224, 0.225]\n",
       "    interpolation=InterpolationMode.BICUBIC\n",
       ")"
      ]
     },
     "execution_count": 33,
     "metadata": {},
     "output_type": "execute_result"
    }
   ],
   "source": [
    "# Get the transforms used to create our pretrained weights\n",
    "auto_transforms = efficientNet_weights.transforms()\n",
    "auto_transforms"
   ]
  },
  {
   "cell_type": "code",
   "execution_count": 34,
   "id": "dcfdb953430a9b93",
   "metadata": {
    "ExecuteTime": {
     "end_time": "2024-10-30T13:41:58.986429300Z",
     "start_time": "2024-10-30T13:41:58.962428Z"
    },
    "collapsed": false
   },
   "outputs": [
    {
     "data": {
      "text/plain": [
       "2"
      ]
     },
     "execution_count": 34,
     "metadata": {},
     "output_type": "execute_result"
    }
   ],
   "source": [
    "#Set up dataloaders\n",
    "from pytorch_modules.pytorch_modules import data_setup\n",
    "undersampling_train_dataloader, undersampling_test_dataloader, class_names = data_setup.create_dataloaders(train_dir=undersampling_train_dir,\n",
    "                                                                                                     test_dir=undersampling_test_dir,\n",
    "                                                                                                     transform=auto_transforms,\n",
    "                                                                                                     batch_size=32)\n",
    "len(class_names)"
   ]
  },
  {
   "cell_type": "code",
   "execution_count": 35,
   "id": "541993fbdd05c9f7",
   "metadata": {
    "ExecuteTime": {
     "end_time": "2024-10-30T13:41:59.392438900Z",
     "start_time": "2024-10-30T13:41:59.377442400Z"
    },
    "collapsed": false
   },
   "outputs": [
    {
     "data": {
      "text/plain": [
       "Sequential(\n",
       "  (0): Dropout(p=0.2, inplace=True)\n",
       "  (1): Linear(in_features=1280, out_features=2, bias=True)\n",
       ")"
      ]
     },
     "execution_count": 35,
     "metadata": {},
     "output_type": "execute_result"
    }
   ],
   "source": [
    "# Update the classifier head of our model to suit our problem\n",
    "torch.manual_seed(42)\n",
    "torch.cuda.manual_seed(42)\n",
    "\n",
    "efficientNet.classifier = nn.Sequential(\n",
    "    nn.Dropout(p=0.2, inplace=True),\n",
    "    nn.Linear(in_features=1280, #feature vector coming in\n",
    "              out_features=len(class_names))\n",
    ").to(device)\n",
    "\n",
    "efficientNet.classifier"
   ]
  },
  {
   "cell_type": "code",
   "execution_count": 36,
   "id": "1b748cc670aa1429",
   "metadata": {
    "ExecuteTime": {
     "end_time": "2024-10-30T13:41:59.615431400Z",
     "start_time": "2024-10-30T13:41:59.602432100Z"
    },
    "collapsed": false
   },
   "outputs": [],
   "source": [
    "# Freeze all of the base layers\n",
    "for param in efficientNet.features.parameters():\n",
    "  param.requires_grad = False"
   ]
  },
  {
   "cell_type": "code",
   "execution_count": 37,
   "id": "5aa87790a6b1b0aa",
   "metadata": {
    "ExecuteTime": {
     "end_time": "2024-10-30T13:42:00.975459500Z",
     "start_time": "2024-10-30T13:42:00.051934900Z"
    },
    "collapsed": false
   },
   "outputs": [
    {
     "data": {
      "text/plain": [
       "========================================================================================================================\n",
       "Layer (type (var_name))                                      Input Shape     Output Shape    Param #         Trainable\n",
       "========================================================================================================================\n",
       "EfficientNet (EfficientNet)                                  [1, 3, 2732, 824] [1, 2]          --              Partial\n",
       "├─Sequential (features)                                      [1, 3, 2732, 824] [1, 1280, 86, 26] --              False\n",
       "│    └─Conv2dNormActivation (0)                              [1, 3, 2732, 824] [1, 32, 1366, 412] --              False\n",
       "│    │    └─Conv2d (0)                                       [1, 3, 2732, 824] [1, 32, 1366, 412] (864)           False\n",
       "│    │    └─BatchNorm2d (1)                                  [1, 32, 1366, 412] [1, 32, 1366, 412] (64)            False\n",
       "│    │    └─SiLU (2)                                         [1, 32, 1366, 412] [1, 32, 1366, 412] --              --\n",
       "│    └─Sequential (1)                                        [1, 32, 1366, 412] [1, 16, 1366, 412] --              False\n",
       "│    │    └─MBConv (0)                                       [1, 32, 1366, 412] [1, 16, 1366, 412] (1,448)         False\n",
       "│    └─Sequential (2)                                        [1, 16, 1366, 412] [1, 24, 683, 206] --              False\n",
       "│    │    └─MBConv (0)                                       [1, 16, 1366, 412] [1, 24, 683, 206] (6,004)         False\n",
       "│    │    └─MBConv (1)                                       [1, 24, 683, 206] [1, 24, 683, 206] (10,710)        False\n",
       "│    └─Sequential (3)                                        [1, 24, 683, 206] [1, 40, 342, 103] --              False\n",
       "│    │    └─MBConv (0)                                       [1, 24, 683, 206] [1, 40, 342, 103] (15,350)        False\n",
       "│    │    └─MBConv (1)                                       [1, 40, 342, 103] [1, 40, 342, 103] (31,290)        False\n",
       "│    └─Sequential (4)                                        [1, 40, 342, 103] [1, 80, 171, 52] --              False\n",
       "│    │    └─MBConv (0)                                       [1, 40, 342, 103] [1, 80, 171, 52] (37,130)        False\n",
       "│    │    └─MBConv (1)                                       [1, 80, 171, 52] [1, 80, 171, 52] (102,900)       False\n",
       "│    │    └─MBConv (2)                                       [1, 80, 171, 52] [1, 80, 171, 52] (102,900)       False\n",
       "│    └─Sequential (5)                                        [1, 80, 171, 52] [1, 112, 171, 52] --              False\n",
       "│    │    └─MBConv (0)                                       [1, 80, 171, 52] [1, 112, 171, 52] (126,004)       False\n",
       "│    │    └─MBConv (1)                                       [1, 112, 171, 52] [1, 112, 171, 52] (208,572)       False\n",
       "│    │    └─MBConv (2)                                       [1, 112, 171, 52] [1, 112, 171, 52] (208,572)       False\n",
       "│    └─Sequential (6)                                        [1, 112, 171, 52] [1, 192, 86, 26] --              False\n",
       "│    │    └─MBConv (0)                                       [1, 112, 171, 52] [1, 192, 86, 26] (262,492)       False\n",
       "│    │    └─MBConv (1)                                       [1, 192, 86, 26] [1, 192, 86, 26] (587,952)       False\n",
       "│    │    └─MBConv (2)                                       [1, 192, 86, 26] [1, 192, 86, 26] (587,952)       False\n",
       "│    │    └─MBConv (3)                                       [1, 192, 86, 26] [1, 192, 86, 26] (587,952)       False\n",
       "│    └─Sequential (7)                                        [1, 192, 86, 26] [1, 320, 86, 26] --              False\n",
       "│    │    └─MBConv (0)                                       [1, 192, 86, 26] [1, 320, 86, 26] (717,232)       False\n",
       "│    └─Conv2dNormActivation (8)                              [1, 320, 86, 26] [1, 1280, 86, 26] --              False\n",
       "│    │    └─Conv2d (0)                                       [1, 320, 86, 26] [1, 1280, 86, 26] (409,600)       False\n",
       "│    │    └─BatchNorm2d (1)                                  [1, 1280, 86, 26] [1, 1280, 86, 26] (2,560)         False\n",
       "│    │    └─SiLU (2)                                         [1, 1280, 86, 26] [1, 1280, 86, 26] --              --\n",
       "├─AdaptiveAvgPool2d (avgpool)                                [1, 1280, 86, 26] [1, 1280, 1, 1] --              --\n",
       "├─Sequential (classifier)                                    [1, 1280]       [1, 2]          --              True\n",
       "│    └─Dropout (0)                                           [1, 1280]       [1, 1280]       --              --\n",
       "│    └─Linear (1)                                            [1, 1280]       [1, 2]          2,562           True\n",
       "========================================================================================================================\n",
       "Total params: 4,010,110\n",
       "Trainable params: 2,562\n",
       "Non-trainable params: 4,007,548\n",
       "Total mult-adds (G): 17.39\n",
       "========================================================================================================================\n",
       "Input size (MB): 27.01\n",
       "Forward/backward pass size (MB): 4855.97\n",
       "Params size (MB): 16.04\n",
       "Estimated Total Size (MB): 4899.02\n",
       "========================================================================================================================"
      ]
     },
     "execution_count": 37,
     "metadata": {},
     "output_type": "execute_result"
    }
   ],
   "source": [
    "# Print with torchinfo\n",
    "from torchinfo import summary\n",
    "\n",
    "summary(model = efficientNet,\n",
    "        input_size = (1,3,2732,824), # example of [batch_size, color_channels, height, width]\n",
    "        col_names = [\"input_size\", \"output_size\", \"num_params\", \"trainable\"],\n",
    "        col_width = 15,\n",
    "        row_settings=['var_names'])"
   ]
  },
  {
   "cell_type": "code",
   "execution_count": 38,
   "id": "ee97c737a4a0992d",
   "metadata": {
    "ExecuteTime": {
     "end_time": "2024-10-30T13:42:01.002570200Z",
     "start_time": "2024-10-30T13:42:00.976458300Z"
    },
    "collapsed": false
   },
   "outputs": [],
   "source": [
    "# Define loss and optimizer\n",
    "loss_fn = nn.CrossEntropyLoss()\n",
    "optimizer = torch.optim.Adam(efficientNet.parameters(), lr= 0.001)"
   ]
  },
  {
   "cell_type": "code",
   "execution_count": 39,
   "id": "3dfe1dd167db1dea",
   "metadata": {
    "ExecuteTime": {
     "end_time": "2024-10-30T13:45:15.614397300Z",
     "start_time": "2024-10-30T13:42:01.342961900Z"
    },
    "collapsed": false
   },
   "outputs": [
    {
     "data": {
      "application/vnd.jupyter.widget-view+json": {
       "model_id": "d4ec93087e47468f8d178bcca3593224",
       "version_major": 2,
       "version_minor": 0
      },
      "text/plain": [
       "  0%|          | 0/10 [00:00<?, ?it/s]"
      ]
     },
     "metadata": {},
     "output_type": "display_data"
    },
    {
     "name": "stdout",
     "output_type": "stream",
     "text": [
      "Epoch: 1 | train_loss: 0.6283 | train_acc: 0.6753 | test_loss: 0.5770 | test_acc: 0.8021\n",
      "Epoch: 2 | train_loss: 0.5002 | train_acc: 0.8472 | test_loss: 0.4369 | test_acc: 0.8958\n",
      "Epoch: 3 | train_loss: 0.4260 | train_acc: 0.8993 | test_loss: 0.3585 | test_acc: 0.9167\n",
      "Epoch: 4 | train_loss: 0.3634 | train_acc: 0.9253 | test_loss: 0.3055 | test_acc: 0.9479\n",
      "Epoch: 5 | train_loss: 0.3269 | train_acc: 0.9184 | test_loss: 0.2704 | test_acc: 0.9688\n",
      "Epoch: 6 | train_loss: 0.2996 | train_acc: 0.9201 | test_loss: 0.2413 | test_acc: 0.9688\n",
      "Epoch: 7 | train_loss: 0.2673 | train_acc: 0.9462 | test_loss: 0.2254 | test_acc: 0.9688\n",
      "Epoch: 8 | train_loss: 0.2663 | train_acc: 0.9583 | test_loss: 0.2071 | test_acc: 0.9688\n",
      "Epoch: 9 | train_loss: 0.2314 | train_acc: 0.9523 | test_loss: 0.2072 | test_acc: 0.9479\n",
      "Epoch: 10 | train_loss: 0.2006 | train_acc: 0.9696 | test_loss: 0.1803 | test_acc: 0.9688\n",
      "[INFO] Total training time:  194.255 seconds\n"
     ]
    }
   ],
   "source": [
    "from pytorch_modules.pytorch_modules import engine\n",
    "\n",
    "# Set the manual seeds\n",
    "torch.manual_seed(42)\n",
    "torch.cuda.manual_seed(42)\n",
    "\n",
    "from timeit import default_timer as timer\n",
    "start_time = timer()\n",
    "\n",
    "results = engine.train(model=efficientNet,\n",
    "                       train_dataloader=undersampling_train_dataloader,\n",
    "                       test_dataloader =undersampling_test_dataloader,\n",
    "                       optimizer=optimizer,\n",
    "                       loss_fn=loss_fn,\n",
    "                       epochs=10,\n",
    "                       device=device)\n",
    "\n",
    "end_time = timer()\n",
    "print(f\"[INFO] Total training time: {end_time-start_time: .3f} seconds\")"
   ]
  },
  {
   "cell_type": "code",
   "execution_count": 41,
   "id": "20b67d18550a40dc",
   "metadata": {
    "ExecuteTime": {
     "end_time": "2024-10-30T13:45:22.850047900Z",
     "start_time": "2024-10-30T13:45:15.825584100Z"
    },
    "collapsed": false
   },
   "outputs": [
    {
     "data": {
      "image/png": "[encoded data removed]",
      "text/plain": [
       "<Figure size 640x480 with 2 Axes>"
      ]
     },
     "metadata": {},
     "output_type": "display_data"
    }
   ],
   "source": [
    "import torch\n",
    "import matplotlib.pyplot as plt\n",
    "from sklearn.metrics import confusion_matrix, ConfusionMatrixDisplay\n",
    "import numpy as np\n",
    "\n",
    "# Ensure the model is in evaluation mode\n",
    "efficientNet.eval()\n",
    "\n",
    "# Create lists to store true and predicted labels\n",
    "true_labels = []\n",
    "predicted_labels = []\n",
    "\n",
    "# Move model to the appropriate device (e.g., CPU or GPU)\n",
    "efficientNet.to(device)\n",
    "\n",
    "# Disable gradient calculation for evaluation\n",
    "with torch.no_grad():\n",
    "    for data in undersampling_test_dataloader:\n",
    "        inputs, labels = data\n",
    "        inputs, labels = inputs.to(device), labels.to(device)\n",
    "\n",
    "        # Forward pass\n",
    "        outputs = efficientNet(inputs)\n",
    "        _, preds = torch.max(outputs, 1)\n",
    "\n",
    "        # Collect predictions and true labels\n",
    "        predicted_labels.extend(preds.cpu().numpy())\n",
    "        true_labels.extend(labels.cpu().numpy())\n",
    "\n",
    "# Compute confusion matrix\n",
    "conf_matrix = confusion_matrix(true_labels, predicted_labels)\n",
    "\n",
    "# Plot the confusion matrix\n",
    "disp = ConfusionMatrixDisplay(confusion_matrix=conf_matrix)\n",
    "disp.plot(cmap=plt.cm.Blues)\n",
    "plt.title('Confusion Matrix')\n",
    "plt.show()\n"
   ]
  },
  {
   "cell_type": "code",
   "execution_count": 42,
   "id": "7eb1b893e31f2d1a",
   "metadata": {
    "ExecuteTime": {
     "end_time": "2024-10-30T13:45:29.706574600Z",
     "start_time": "2024-10-30T13:45:22.855360200Z"
    },
    "collapsed": false
   },
   "outputs": [
    {
     "name": "stdout",
     "output_type": "stream",
     "text": [
      "F1 Score (Micro): 0.967391304347826\n",
      "F1 Score (Macro): 0.9673565937315198\n"
     ]
    },
    {
     "data": {
      "image/png": "[encoded data removed]",
      "text/plain": [
       "<Figure size 640x480 with 1 Axes>"
      ]
     },
     "metadata": {},
     "output_type": "display_data"
    }
   ],
   "source": [
    "import torch\n",
    "import matplotlib.pyplot as plt\n",
    "from sklearn.metrics import f1_score, roc_curve, auc\n",
    "import numpy as np\n",
    "from sklearn.preprocessing import label_binarize\n",
    "\n",
    "# Ensure the model is in evaluation mode and move it to the appropriate device\n",
    "efficientNet.to(device)\n",
    "efficientNet.eval()\n",
    "\n",
    "# Create lists to store true and predicted labels\n",
    "true_labels = []\n",
    "predicted_labels = []\n",
    "all_probabilities = []\n",
    "\n",
    "# Disable gradient calculation for evaluation\n",
    "with torch.no_grad():\n",
    "    for data in undersampling_test_dataloader:\n",
    "        inputs, labels = data\n",
    "        inputs, labels = inputs.to(device), labels.to(device)\n",
    "\n",
    "        # Forward pass\n",
    "        outputs = efficientNet(inputs)\n",
    "        _, preds = torch.max(outputs, 1)\n",
    "\n",
    "        # Collect predictions, true labels, and predicted probabilities\n",
    "        predicted_labels.extend(preds.cpu().numpy())\n",
    "        true_labels.extend(labels.cpu().numpy())\n",
    "        all_probabilities.extend(torch.softmax(outputs, dim=1).cpu().numpy())\n",
    "\n",
    "# Calculate F1 score (micro and macro)\n",
    "f1_micro = f1_score(true_labels, predicted_labels, average='micro')\n",
    "f1_macro = f1_score(true_labels, predicted_labels, average='macro')\n",
    "print(f\"F1 Score (Micro): {f1_micro}\")\n",
    "print(f\"F1 Score (Macro): {f1_macro}\")\n",
    "\n",
    "# Determine if it's binary or multi-class\n",
    "num_classes = len(np.unique(true_labels))\n",
    "\n",
    "if num_classes == 2:\n",
    "    # Binary classification: Use only one ROC curve\n",
    "    fpr, tpr, _ = roc_curve(true_labels, np.array(all_probabilities)[:, 1])\n",
    "    roc_auc = auc(fpr, tpr) \n",
    "\n",
    "    # Plot ROC curve for binary classification\n",
    "    plt.plot(fpr, tpr, label=f'ROC curve (AUC = {roc_auc:.2f})')\n",
    "else:\n",
    "    # Multi-class classification: ROC curve for each class\n",
    "    true_labels_binarized = label_binarize(true_labels, classes=np.arange(num_classes))\n",
    "\n",
    "    # Plot ROC curve for each class\n",
    "    for i in range(num_classes):\n",
    "        fpr, tpr, _ = roc_curve(true_labels_binarized[:, i], np.array(all_probabilities)[:, i])\n",
    "        roc_auc = auc(fpr, tpr)\n",
    "        plt.plot(fpr, tpr, label=f'Class {i} (AUC = {roc_auc:.2f})')\n",
    "\n",
    "# Plot settings\n",
    "plt.plot([0, 1], [0, 1], 'k--', lw=2)\n",
    "plt.xlim([0.0, 1.0])\n",
    "plt.ylim([0.0, 1.05])\n",
    "plt.xlabel('False Positive Rate')\n",
    "plt.ylabel('True Positive Rate')\n",
    "plt.title('ROC Curve')\n",
    "plt.legend(loc=\"lower right\")\n",
    "plt.show()\n"
   ]
  },
  {
   "cell_type": "code",
   "execution_count": null,
   "id": "8e20c97bf3c206c8",
   "metadata": {
    "collapsed": false
   },
   "outputs": [],
   "source": []
  }
 ],
 "metadata": {
  "kernelspec": {
   "display_name": "Python 3",
   "language": "python",
   "name": "python3"
  },
  "language_info": {
   "codemirror_mode": {
    "name": "ipython",
    "version": 2
   },
   "file_extension": ".py",
   "mimetype": "text/x-python",
   "name": "python",
   "nbconvert_exporter": "python",
   "pygments_lexer": "ipython2",
   "version": "2.7.6"
  }
 },
 "nbformat": 4,
 "nbformat_minor": 5
}
