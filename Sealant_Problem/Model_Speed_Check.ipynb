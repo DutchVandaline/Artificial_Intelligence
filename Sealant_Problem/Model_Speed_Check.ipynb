{
 "cells": [
  {
   "cell_type": "code",
   "execution_count": 4,
   "id": "initial_id",
   "metadata": {
    "collapsed": true,
    "ExecuteTime": {
     "end_time": "2024-11-07T02:59:57.946117500Z",
     "start_time": "2024-11-07T02:59:57.281922900Z"
    }
   },
   "outputs": [
    {
     "name": "stdout",
     "output_type": "stream",
     "text": [
      "torch version : 2.0.0\n"
     ]
    }
   ],
   "source": [
    "import torch\n",
    "import torch.nn\n",
    "import torchvision\n",
    "\n",
    "from torch import nn\n",
    "from torchvision import transforms\n",
    "from tqdm import tqdm\n",
    "from PIL import Image\n",
    "\n",
    "import matplotlib.pyplot as plt\n",
    "import os\n",
    "import time\n",
    "import random\n",
    "import io\n",
    "print(f\"torch version : {torch.__version__}\")"
   ]
  },
  {
   "cell_type": "code",
   "outputs": [],
   "source": [
    "model_paths = [\"C:/junha/Personal_Notebook/models/efficientNet_OverSampling.pth\",\n",
    "               \"C:/junha/Personal_Notebook/models/efficientNetV2_OverSampling.pth\",\n",
    "               \"C:/junha/Personal_Notebook/models/swinTransformer_OverSampling.pth\",\n",
    "               \"C:/junha/Personal_Notebook/models/swinTransformer_Tiny_OverSampling.pth\",\n",
    "               \"C:/junha/Personal_Notebook/models/tinyVGG_OverSampling.pth\",\n",
    "               ]"
   ],
   "metadata": {
    "collapsed": false,
    "ExecuteTime": {
     "end_time": "2024-11-07T03:15:25.691830100Z",
     "start_time": "2024-11-07T03:15:25.682780700Z"
    }
   },
   "id": "2c017bd8822cc77",
   "execution_count": 13
  },
  {
   "cell_type": "code",
   "outputs": [],
   "source": [
    "class TinyVGG(nn.Module):\n",
    "  \"\"\"\n",
    "  Model architecture copying TinyVGG from CNN explainer\n",
    "  \"\"\"\n",
    "  def __init__(self,\n",
    "                input_shape:int,\n",
    "                hidden_units:int,\n",
    "                output_shape = int) -> None:\n",
    "    super().__init__()\n",
    "    self.conv_block_1 = nn.Sequential(\n",
    "        nn.Conv2d(in_channels=input_shape,\n",
    "                  out_channels=hidden_units,\n",
    "                  kernel_size = 3,\n",
    "                  stride=1,\n",
    "                  padding=0),\n",
    "        nn.ReLU(),\n",
    "        nn.Conv2d(in_channels=hidden_units,\n",
    "                  out_channels=hidden_units,\n",
    "                  kernel_size=3,\n",
    "                  stride=1,\n",
    "                  padding=0),\n",
    "        nn.ReLU(),\n",
    "        nn.MaxPool2d(kernel_size=2,\n",
    "                      stride = 2)\n",
    "    )\n",
    "    self.conv_block_2 = nn.Sequential(\n",
    "        nn.Conv2d(in_channels=hidden_units,\n",
    "                  out_channels=hidden_units,\n",
    "                  kernel_size = 3,\n",
    "                  stride=1,\n",
    "                  padding=0),\n",
    "        nn.ReLU(),\n",
    "        nn.Conv2d(in_channels=hidden_units,\n",
    "                  out_channels=hidden_units,\n",
    "                  kernel_size=3,\n",
    "                  stride=1,\n",
    "                  padding=0),\n",
    "        nn.ReLU(),\n",
    "        nn.MaxPool2d(kernel_size=2,\n",
    "                      stride = 2)\n",
    "    )\n",
    "    self.classifier = nn.Sequential(\n",
    "        nn.Flatten(),\n",
    "        nn.Linear(in_features=hidden_units * 127890,\n",
    "                  out_features = output_shape)\n",
    "    )\n",
    "\n",
    "  def forward(self, x):\n",
    "    x = self.conv_block_1(x)\n",
    "    #print(x.shape)\n",
    "    x=self.conv_block_2(x)\n",
    "    #print(x.shape)\n",
    "    x = self.classifier(x)\n",
    "    #print(x.shape)\n",
    "    return x\n",
    "      #return self.classifier(self.conv_block2(self.conv_block_1(x))) # benefits from opterator fusion"
   ],
   "metadata": {
    "collapsed": false,
    "ExecuteTime": {
     "end_time": "2024-11-07T03:15:27.329145500Z",
     "start_time": "2024-11-07T03:15:27.324659100Z"
    }
   },
   "id": "780328ca1b6d36ca",
   "execution_count": 14
  },
  {
   "cell_type": "code",
   "outputs": [],
   "source": [
    "tinyVGG = TinyVGG(input_shape=3, hidden_units=10, output_shape=2)"
   ],
   "metadata": {
    "collapsed": false,
    "ExecuteTime": {
     "end_time": "2024-11-07T03:15:27.360576900Z",
     "start_time": "2024-11-07T03:15:27.330228500Z"
    }
   },
   "id": "21d05181ad40c72c",
   "execution_count": 15
  },
  {
   "cell_type": "code",
   "outputs": [],
   "source": [
    "model_names = [\"EfficientNet B0\", \"EfficientNet V2 Large\", \"Swin Transformer Base\", \"Swin Transformer Tiny\", \"tinyVGG\"]\n",
    "models = [\n",
    "    torchvision.models.efficientnet_b0(),\n",
    "    torchvision.models.efficientnet_v2_l(),\n",
    "    torchvision.models.swin_v2_b(),\n",
    "    torchvision.models.swin_v2_t(),\n",
    "    tinyVGG\n",
    "]"
   ],
   "metadata": {
    "collapsed": false,
    "ExecuteTime": {
     "end_time": "2024-11-07T03:15:29.432753600Z",
     "start_time": "2024-11-07T03:15:27.363578800Z"
    }
   },
   "id": "6d843a5a068fa8e3",
   "execution_count": 16
  },
  {
   "cell_type": "code",
   "outputs": [],
   "source": [
    "image_folder = \"C:\\junha\\Personal_Notebook\\oversampling_data\\z_keep_out_for_final_test\"\n",
    "classes = ['defect', 'normal']"
   ],
   "metadata": {
    "collapsed": false,
    "ExecuteTime": {
     "end_time": "2024-11-07T03:15:32.838886100Z",
     "start_time": "2024-11-07T03:15:32.822885400Z"
    }
   },
   "id": "c7fc8dae737a4b99",
   "execution_count": 17
  },
  {
   "cell_type": "code",
   "outputs": [],
   "source": [
    "image_size = (2532, 824) "
   ],
   "metadata": {
    "collapsed": false,
    "ExecuteTime": {
     "end_time": "2024-11-07T03:15:34.385847500Z",
     "start_time": "2024-11-07T03:15:34.371103600Z"
    }
   },
   "id": "c3ea417e5dd3e4b9",
   "execution_count": 18
  },
  {
   "cell_type": "code",
   "outputs": [],
   "source": [
    "transform = transforms.Compose([\n",
    "    transforms.Resize(image_size),  # Ensure size matches the model's input requirements\n",
    "    transforms.ToTensor(),\n",
    "    transforms.Normalize(mean=[0.485, 0.456, 0.406], std=[0.229, 0.224, 0.225])\n",
    "])"
   ],
   "metadata": {
    "collapsed": false,
    "ExecuteTime": {
     "end_time": "2024-11-07T03:15:38.096045Z",
     "start_time": "2024-11-07T03:15:38.086046700Z"
    }
   },
   "id": "8abb85b32c022ed4",
   "execution_count": 19
  },
  {
   "cell_type": "code",
   "outputs": [
    {
     "name": "stdout",
     "output_type": "stream",
     "text": [
      "Model #0 loaded successfully.\n",
      "Model #1 loaded successfully.\n",
      "Model #2 loaded successfully.\n",
      "Model #3 loaded successfully.\n",
      "Model #4 loaded successfully.\n"
     ]
    }
   ],
   "source": [
    "for i, model in enumerate(models):\n",
    "    # Adjust classifier for 2 classes\n",
    "    if 'efficientnet' in model.__class__.__name__.lower():\n",
    "        model.classifier[1] = torch.nn.Linear(model.classifier[1].in_features, 2)\n",
    "    elif 'swin' in model.__class__.__name__.lower():\n",
    "        model.head = torch.nn.Linear(model.head.in_features, 2)\n",
    "    \n",
    "    # Load state dictionary\n",
    "    state_dict = torch.load(model_paths[i])\n",
    "    model.load_state_dict(state_dict)\n",
    "    model.eval()\n",
    "    print(f\"Model #{i} loaded successfully.\")\n"
   ],
   "metadata": {
    "collapsed": false,
    "ExecuteTime": {
     "end_time": "2024-11-07T03:15:40.813905Z",
     "start_time": "2024-11-07T03:15:39.719677800Z"
    }
   },
   "id": "3bade7ad47175b51",
   "execution_count": 20
  },
  {
   "cell_type": "code",
   "outputs": [],
   "source": [
    "all_images = []\n",
    "for label, class_name in enumerate(classes):\n",
    "    class_folder = os.path.join(image_folder, class_name)\n",
    "    for filename in os.listdir(class_folder):\n",
    "        image_path = os.path.join(class_folder, filename)\n",
    "        all_images.append((image_path, label))  \n",
    "\n",
    "# Shuffle images for random processing\n",
    "random.shuffle(all_images)"
   ],
   "metadata": {
    "collapsed": false,
    "ExecuteTime": {
     "end_time": "2024-11-07T03:15:43.232109500Z",
     "start_time": "2024-11-07T03:15:43.221109600Z"
    }
   },
   "id": "698b7b66bee8c630",
   "execution_count": 21
  },
  {
   "cell_type": "code",
   "outputs": [
    {
     "name": "stderr",
     "output_type": "stream",
     "text": [
      "Evaluating EfficientNet B0 on shuffled images: 100%|██████████| 40/40 [00:43<00:00,  1.10s/it]\n"
     ]
    },
    {
     "name": "stdout",
     "output_type": "stream",
     "text": [
      "\n",
      "Model: EfficientNet B0\n",
      "Accuracy: 0.9500\n",
      "Average Processing Time per Image: 1.0587 seconds\n"
     ]
    },
    {
     "name": "stderr",
     "output_type": "stream",
     "text": [
      "Evaluating EfficientNet V2 Large on shuffled images: 100%|██████████| 40/40 [04:00<00:00,  6.01s/it]\n"
     ]
    },
    {
     "name": "stdout",
     "output_type": "stream",
     "text": [
      "\n",
      "Model: EfficientNet V2 Large\n",
      "Accuracy: 0.9500\n",
      "Average Processing Time per Image: 5.9731 seconds\n"
     ]
    },
    {
     "name": "stderr",
     "output_type": "stream",
     "text": [
      "Evaluating Swin Transformer Base on shuffled images: 100%|██████████| 40/40 [04:09<00:00,  6.24s/it]\n"
     ]
    },
    {
     "name": "stdout",
     "output_type": "stream",
     "text": [
      "\n",
      "Model: Swin Transformer Base\n",
      "Accuracy: 1.0000\n",
      "Average Processing Time per Image: 6.2056 seconds\n"
     ]
    },
    {
     "name": "stderr",
     "output_type": "stream",
     "text": [
      "Evaluating Swin Transformer Tiny on shuffled images: 100%|██████████| 40/40 [01:41<00:00,  2.55s/it]\n"
     ]
    },
    {
     "name": "stdout",
     "output_type": "stream",
     "text": [
      "\n",
      "Model: Swin Transformer Tiny\n",
      "Accuracy: 1.0000\n",
      "Average Processing Time per Image: 2.5119 seconds\n"
     ]
    },
    {
     "name": "stderr",
     "output_type": "stream",
     "text": [
      "Evaluating tinyVGG on shuffled images: 100%|██████████| 40/40 [00:09<00:00,  4.20it/s]"
     ]
    },
    {
     "name": "stdout",
     "output_type": "stream",
     "text": [
      "\n",
      "Model: tinyVGG\n",
      "Accuracy: 1.0000\n",
      "Average Processing Time per Image: 0.2003 seconds\n",
      "\n",
      "Summary of Model Performance:\n",
      "Model: EfficientNet B0 | Accuracy: 0.9500 | Average Time: 1.0587 seconds\n",
      "Model: EfficientNet V2 Large | Accuracy: 0.9500 | Average Time: 5.9731 seconds\n",
      "Model: Swin Transformer Base | Accuracy: 1.0000 | Average Time: 6.2056 seconds\n",
      "Model: Swin Transformer Tiny | Accuracy: 1.0000 | Average Time: 2.5119 seconds\n",
      "Model: tinyVGG | Accuracy: 1.0000 | Average Time: 0.2003 seconds\n"
     ]
    },
    {
     "name": "stderr",
     "output_type": "stream",
     "text": [
      "\n"
     ]
    }
   ],
   "source": [
    "# Initialize lists to store accuracy and timing for each model\n",
    "accuracies = []\n",
    "average_times = []\n",
    "\n",
    "# Evaluate each model with tqdm\n",
    "for model, model_name in zip(models, model_names):\n",
    "    correct_predictions = 0\n",
    "    total_images = 0\n",
    "    processing_times = []\n",
    "\n",
    "    # Progress bar for each model's evaluation\n",
    "    with torch.no_grad():\n",
    "        for image_path, label in tqdm(all_images, desc=f\"Evaluating {model_name} on shuffled images\"):\n",
    "            image = Image.open(image_path).convert(\"RGB\")\n",
    "            image = transform(image).unsqueeze(0)\n",
    "\n",
    "            # Measure inference time\n",
    "            start_time = time.time()\n",
    "            output = model(image)\n",
    "            end_time = time.time()\n",
    "\n",
    "            # Record time and calculate prediction\n",
    "            processing_times.append(end_time - start_time)\n",
    "            _, predicted = torch.max(output, 1)\n",
    "\n",
    "            # Print actual and predicted labels\n",
    "            actual_label = classes[label]\n",
    "            predicted_label = classes[predicted.item()]\n",
    "        \n",
    "\n",
    "            # Update accuracy counters\n",
    "            correct_predictions += (predicted.item() == label)\n",
    "            total_images += 1\n",
    "\n",
    "    # Calculate accuracy and average processing time for the model\n",
    "    accuracy = correct_predictions / total_images\n",
    "    avg_time = sum(processing_times) / len(processing_times)\n",
    "\n",
    "    # Store results\n",
    "    accuracies.append(accuracy)\n",
    "    average_times.append(avg_time)\n",
    "\n",
    "    # Print model-specific results\n",
    "    print(f\"\\nModel: {model_name}\")\n",
    "    print(f\"Accuracy: {accuracy:.4f}\")\n",
    "    print(f\"Average Processing Time per Image: {avg_time:.4f} seconds\\n\")\n",
    "\n",
    "# Final summary of accuracies and average times for all models\n",
    "print(\"Summary of Model Performance:\")\n",
    "for model_name, accuracy, avg_time in zip(model_names, accuracies, average_times):\n",
    "    print(f\"Model: {model_name} | Accuracy: {accuracy:.4f} | Average Time: {avg_time:.4f} seconds\")"
   ],
   "metadata": {
    "collapsed": false,
    "ExecuteTime": {
     "end_time": "2024-11-07T03:26:30.204094400Z",
     "start_time": "2024-11-07T03:15:44.643773100Z"
    }
   },
   "id": "b1453e2df90c5461",
   "execution_count": 22
  },
  {
   "cell_type": "code",
   "outputs": [
    {
     "data": {
      "text/plain": "<Figure size 1000x600 with 2 Axes>",
      "image/png": "[encoded data removed]"
     },
     "metadata": {},
     "output_type": "display_data"
    }
   ],
   "source": [
    "# Plot accuracy and processing time for each model\n",
    "model_names = [\"EfficientNet B0\", \"EfficientNet V2 Large\", \"Swin Transformer Base\", \"Swin Transformer Tiny\", \"tinyVGG\"]\n",
    "fig, ax1 = plt.subplots(figsize=(10, 6))\n",
    "\n",
    "# Plot accuracy\n",
    "ax1.set_xlabel(\"Model\")\n",
    "ax1.set_ylabel(\"Accuracy\", color=\"tab:blue\")\n",
    "ax1.bar(model_names, accuracies, color=\"tab:blue\", alpha=0.6, label=\"Accuracy\")\n",
    "ax1.tick_params(axis=\"y\", labelcolor=\"tab:blue\")\n",
    "\n",
    "# Create a second y-axis for processing time\n",
    "ax2 = ax1.twinx()\n",
    "ax2.set_ylabel(\"Average Time (seconds)\", color=\"tab:red\")\n",
    "ax2.plot(model_names, average_times, color=\"tab:red\", marker=\"o\", label=\"Processing Time\")\n",
    "ax2.tick_params(axis=\"y\", labelcolor=\"tab:red\")\n",
    "\n",
    "# Add legends\n",
    "fig.tight_layout()\n",
    "plt.title(\"Model Accuracy and Average Processing Time\")\n",
    "plt.show()"
   ],
   "metadata": {
    "collapsed": false,
    "ExecuteTime": {
     "end_time": "2024-11-07T03:27:05.032937200Z",
     "start_time": "2024-11-07T03:27:04.912938700Z"
    }
   },
   "id": "7784b112d868faaf",
   "execution_count": 24
  },
  {
   "cell_type": "code",
   "outputs": [],
   "source": [],
   "metadata": {
    "collapsed": false
   },
   "id": "1bc469044e68e2d8"
  }
 ],
 "metadata": {
  "kernelspec": {
   "display_name": "Python 3",
   "language": "python",
   "name": "python3"
  },
  "language_info": {
   "codemirror_mode": {
    "name": "ipython",
    "version": 2
   },
   "file_extension": ".py",
   "mimetype": "text/x-python",
   "name": "python",
   "nbconvert_exporter": "python",
   "pygments_lexer": "ipython2",
   "version": "2.7.6"
  }
 },
 "nbformat": 4,
 "nbformat_minor": 5
}
