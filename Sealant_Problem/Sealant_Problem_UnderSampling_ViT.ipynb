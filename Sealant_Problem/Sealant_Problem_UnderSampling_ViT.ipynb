{
 "cells": [
  {
   "cell_type": "code",
   "execution_count": 19,
   "id": "initial_id",
   "metadata": {
    "ExecuteTime": {
     "end_time": "2024-10-31T01:55:44.935774100Z",
     "start_time": "2024-10-31T01:55:44.925773500Z"
    },
    "collapsed": true
   },
   "outputs": [
    {
     "name": "stdout",
     "output_type": "stream",
     "text": [
      "torch version : 2.4.1\n"
     ]
    }
   ],
   "source": [
    "import torch\n",
    "import torch.nn\n",
    "import torchvision\n",
    "\n",
    "from torch import nn\n",
    "from torchvision import transforms\n",
    "import os\n",
    "import random\n",
    "\n",
    "import matplotlib.pyplot as plt\n",
    "print(f\"torch version : {torch.__version__}\")"
   ]
  },
  {
   "cell_type": "code",
   "execution_count": 20,
   "id": "44b5b630365370d6",
   "metadata": {
    "ExecuteTime": {
     "end_time": "2024-10-31T01:55:46.185041700Z",
     "start_time": "2024-10-31T01:55:46.166042500Z"
    },
    "collapsed": false
   },
   "outputs": [],
   "source": [
    "# Try to get torchinfo, install it if it doesn't work\n",
    "try:\n",
    "    from torchinfo import summary\n",
    "except:\n",
    "    print(\"[INFO] Couldn't find torchinfo... installing it.\")\n",
    "    !pip install -q torchinfo\n",
    "    from torchinfo import summary\n",
    "\n",
    "# Try to import the going_modular directory, download it from GitHub if it doesn't work\n",
    "try:\n",
    "    from pytorch_modules.pytorch_modules import data_setup, engine\n",
    "    from helper_functions import download_data, set_seeds, plot_loss_curves\n",
    "except:\n",
    "    # Get the going_modular scripts\n",
    "    print(\"[INFO] Couldn't find going_modular or helper_functions scripts... downloading them from GitHub.\")\n",
    "    !git clone https://github.com/DutchVandaline/Artificial_Intelligence.git\n",
    "    !mv Artificial_Intelligence/pytorch_modules .\n",
    "    !mv Artificial_Intelligence/helper_functions.py . # get the helper_functions.py script\n",
    "    !rm -rf pytorch-deep-learning\n",
    "    from pytorch_modules.pytorch_modules import data_setup, engine\n",
    "    from helper_functions import download_data, set_seeds, plot_loss_curves"
   ]
  },
  {
   "cell_type": "code",
   "execution_count": 21,
   "id": "798535e76e9c6e56",
   "metadata": {
    "ExecuteTime": {
     "end_time": "2024-10-31T01:55:47.044494600Z",
     "start_time": "2024-10-31T01:55:47.031483900Z"
    },
    "collapsed": false
   },
   "outputs": [
    {
     "data": {
      "text/plain": [
       "'cpu'"
      ]
     },
     "execution_count": 21,
     "metadata": {},
     "output_type": "execute_result"
    }
   ],
   "source": [
    "device = \"cuda\" if torch.cuda.is_available() else \"cpu\"\n",
    "device"
   ]
  },
  {
   "cell_type": "code",
   "execution_count": 4,
   "id": "1f566c7c1c6dc4d3",
   "metadata": {
    "ExecuteTime": {
     "end_time": "2024-10-31T01:46:53.376033800Z",
     "start_time": "2024-10-31T01:46:53.355034300Z"
    },
    "collapsed": false
   },
   "outputs": [],
   "source": [
    "image_path = \"C:\\junha\\Personal_Notebook\\data\""
   ]
  },
  {
   "cell_type": "code",
   "execution_count": 5,
   "id": "507a914118fac486",
   "metadata": {
    "ExecuteTime": {
     "end_time": "2024-10-31T01:46:53.384033600Z",
     "start_time": "2024-10-31T01:46:53.372033900Z"
    },
    "collapsed": false
   },
   "outputs": [
    {
     "name": "stdout",
     "output_type": "stream",
     "text": [
      "There are 2 directoreis and 0 images in 'C:\\junha\\Personal_Notebook\\data'.\n",
      "There are 2 directoreis and 0 images in 'C:\\junha\\Personal_Notebook\\data\\test'.\n",
      "There are 0 directoreis and 397 images in 'C:\\junha\\Personal_Notebook\\data\\test\\defect'.\n",
      "There are 0 directoreis and 46 images in 'C:\\junha\\Personal_Notebook\\data\\test\\normal'.\n",
      "There are 2 directoreis and 0 images in 'C:\\junha\\Personal_Notebook\\data\\train'.\n",
      "There are 0 directoreis and 1585 images in 'C:\\junha\\Personal_Notebook\\data\\train\\defect'.\n",
      "There are 0 directoreis and 182 images in 'C:\\junha\\Personal_Notebook\\data\\train\\normal'.\n"
     ]
    }
   ],
   "source": [
    "# Count Image Data length\n",
    "import os\n",
    "def walk_through_dir(dir_path):\n",
    "  \"\"\" Walks through dir_path returning its conents.\"\"\"\n",
    "  for dirpath, dirnames, filenames in os.walk(dir_path):\n",
    "    print(f\"There are {len(dirnames)} directoreis and {len(filenames)} images in '{dirpath}'.\")\n",
    "walk_through_dir(image_path)"
   ]
  },
  {
   "cell_type": "code",
   "execution_count": 6,
   "id": "81b468299879817f",
   "metadata": {
    "ExecuteTime": {
     "end_time": "2024-10-31T01:46:53.551034400Z",
     "start_time": "2024-10-31T01:46:53.387034700Z"
    },
    "collapsed": false
   },
   "outputs": [
    {
     "name": "stdout",
     "output_type": "stream",
     "text": [
      "Undersampled data made\n"
     ]
    }
   ],
   "source": [
    "# Cut train image's normal data into 221\n",
    "from shutil import copyfile\n",
    "from pathlib import Path\n",
    "\n",
    "defect_dir = Path(\"C:/junha/Personal_Notebook/data/train/defect\")\n",
    "normal_dir = Path(\"C:/junha/Personal_Notebook/data/train/normal\")\n",
    "\n",
    "defect_images = os.listdir(defect_dir)\n",
    "\n",
    "random.seed(42)  # 재현을 위해 시드 설정\n",
    "selected_images = random.sample(defect_images, 182)\n",
    "\n",
    "undersampling_train_dir = 'C:/junha/Personal_Notebook/undersampling_data/undersampling_train'\n",
    "os.makedirs(undersampling_train_dir, exist_ok=True)\n",
    "\n",
    "undersampling_train_defect_dir = os.path.join(undersampling_train_dir, 'defect')\n",
    "os.makedirs(undersampling_train_defect_dir, exist_ok=True)\n",
    "\n",
    "for image_name in selected_images:\n",
    "    src_path = os.path.join(defect_dir, image_name)\n",
    "    dst_path = os.path.join(undersampling_train_defect_dir, image_name)\n",
    "    copyfile(src_path, dst_path)\n",
    "\n",
    "undersampling_train_normal_dir = os.path.join(undersampling_train_dir, 'normal')\n",
    "os.makedirs(undersampling_train_normal_dir, exist_ok=True)\n",
    "\n",
    "normal_images = os.listdir(normal_dir)\n",
    "for image_name in normal_images:\n",
    "    src_path = os.path.join(normal_dir, image_name)\n",
    "    dst_path = os.path.join(undersampling_train_normal_dir, image_name)\n",
    "    copyfile(src_path, dst_path)\n",
    "print(\"Undersampled data made\")"
   ]
  },
  {
   "cell_type": "code",
   "execution_count": 7,
   "id": "2e9bf5a8bacca37a",
   "metadata": {
    "ExecuteTime": {
     "end_time": "2024-10-31T01:46:53.610033600Z",
     "start_time": "2024-10-31T01:46:53.552034500Z"
    },
    "collapsed": false
   },
   "outputs": [
    {
     "name": "stdout",
     "output_type": "stream",
     "text": [
      "Undersampled data made\n"
     ]
    }
   ],
   "source": [
    "# Cut train image's normal data into 221\n",
    "from shutil import copyfile\n",
    "from pathlib import Path\n",
    "\n",
    "defect_dir = Path(\"C:/junha/Personal_Notebook/data/test/defect\")\n",
    "normal_dir = Path(\"C:/junha/Personal_Notebook/data/test/normal\")\n",
    "\n",
    "defect_images = os.listdir(defect_dir)\n",
    "\n",
    "random.seed(42)  # 재현을 위해 시드 설정\n",
    "selected_images = random.sample(defect_images, 46)\n",
    "\n",
    "undersampling_test_dir = 'C:/junha/Personal_Notebook/undersampling_data/undersampling_test'\n",
    "os.makedirs(undersampling_test_dir, exist_ok=True)\n",
    "\n",
    "undersampling_test_defect_dir = os.path.join(undersampling_test_dir, 'defect')\n",
    "os.makedirs(undersampling_test_defect_dir, exist_ok=True)\n",
    "\n",
    "for image_name in selected_images:\n",
    "    src_path = os.path.join(defect_dir, image_name)\n",
    "    dst_path = os.path.join(undersampling_test_defect_dir, image_name)\n",
    "    copyfile(src_path, dst_path)\n",
    "\n",
    "undersampling_test_normal_dir = os.path.join(undersampling_test_dir, 'normal')\n",
    "os.makedirs(undersampling_test_normal_dir, exist_ok=True)\n",
    "\n",
    "normal_images = os.listdir(normal_dir)\n",
    "for image_name in normal_images:\n",
    "    src_path = os.path.join(normal_dir, image_name)\n",
    "    dst_path = os.path.join(undersampling_test_normal_dir, image_name)\n",
    "    copyfile(src_path, dst_path)\n",
    "print(\"Undersampled data made\")"
   ]
  },
  {
   "cell_type": "code",
   "execution_count": 8,
   "id": "8cbb7cb0d04f2558",
   "metadata": {
    "ExecuteTime": {
     "end_time": "2024-10-31T01:46:53.637036200Z",
     "start_time": "2024-10-31T01:46:53.610033600Z"
    },
    "collapsed": false
   },
   "outputs": [],
   "source": [
    "undersampling_image_path = 'C:/junha/Personal_Notebook/undersampling_data'"
   ]
  },
  {
   "cell_type": "code",
   "execution_count": 9,
   "id": "a39ad32d250fa295",
   "metadata": {
    "ExecuteTime": {
     "end_time": "2024-10-31T01:46:53.642034500Z",
     "start_time": "2024-10-31T01:46:53.626034700Z"
    },
    "collapsed": false
   },
   "outputs": [
    {
     "name": "stdout",
     "output_type": "stream",
     "text": [
      "There are 2 directoreis and 0 images in 'C:/junha/Personal_Notebook/undersampling_data'.\n",
      "There are 2 directoreis and 0 images in 'C:/junha/Personal_Notebook/undersampling_data\\undersampling_test'.\n",
      "There are 0 directoreis and 46 images in 'C:/junha/Personal_Notebook/undersampling_data\\undersampling_test\\defect'.\n",
      "There are 0 directoreis and 46 images in 'C:/junha/Personal_Notebook/undersampling_data\\undersampling_test\\normal'.\n",
      "There are 2 directoreis and 0 images in 'C:/junha/Personal_Notebook/undersampling_data\\undersampling_train'.\n",
      "There are 0 directoreis and 182 images in 'C:/junha/Personal_Notebook/undersampling_data\\undersampling_train\\defect'.\n",
      "There are 0 directoreis and 182 images in 'C:/junha/Personal_Notebook/undersampling_data\\undersampling_train\\normal'.\n"
     ]
    }
   ],
   "source": [
    "# Count Image Data length\n",
    "import os\n",
    "def walk_through_dir(dir_path):\n",
    "  \"\"\" Walks through dir_path returning its conents.\"\"\"\n",
    "  for dirpath, dirnames, filenames in os.walk(dir_path):\n",
    "    print(f\"There are {len(dirnames)} directoreis and {len(filenames)} images in '{dirpath}'.\")\n",
    "walk_through_dir(undersampling_image_path)"
   ]
  },
  {
   "cell_type": "code",
   "execution_count": 10,
   "id": "af5ebd03d07cb52f",
   "metadata": {
    "ExecuteTime": {
     "end_time": "2024-10-31T01:46:53.667035200Z",
     "start_time": "2024-10-31T01:46:53.640034800Z"
    },
    "collapsed": false
   },
   "outputs": [
    {
     "name": "stdout",
     "output_type": "stream",
     "text": [
      "C:/junha/Personal_Notebook/undersampling_data/undersampling_train C:/junha/Personal_Notebook/undersampling_data/undersampling_test\n"
     ]
    }
   ],
   "source": [
    "# Setup directory paths to train and test images\n",
    "undersampling_train_dir = undersampling_image_path + \"/undersampling_train\"\n",
    "undersampling_test_dir = undersampling_image_path + \"/undersampling_test\"\n",
    "print(undersampling_train_dir, undersampling_test_dir)"
   ]
  },
  {
   "cell_type": "code",
   "execution_count": 11,
   "id": "3913079656e2d348",
   "metadata": {
    "ExecuteTime": {
     "end_time": "2024-10-31T01:46:54.226035400Z",
     "start_time": "2024-10-31T01:46:53.656034Z"
    },
    "collapsed": false
   },
   "outputs": [],
   "source": [
    "undersampling_pretrained_vit_weights = torchvision.models.ViT_B_16_Weights.DEFAULT\n",
    "\n",
    "undersampling_pretrained_vit = torchvision.models.vit_b_16(weights=undersampling_pretrained_vit_weights).to(device)\n",
    "\n",
    "for parameter in undersampling_pretrained_vit.parameters():\n",
    "  parameter.requires_grad = False\n",
    "\n",
    "set_seeds()\n",
    "undersampling_pretrained_vit.heads = nn.Linear(in_features=768, out_features=2).to(device)"
   ]
  },
  {
   "cell_type": "code",
   "execution_count": 12,
   "id": "482208fe8f827928",
   "metadata": {
    "ExecuteTime": {
     "end_time": "2024-10-31T01:46:54.315033800Z",
     "start_time": "2024-10-31T01:46:54.227034500Z"
    },
    "collapsed": false
   },
   "outputs": [
    {
     "data": {
      "text/plain": [
       "============================================================================================================================\n",
       "Layer (type (var_name))                                      Input Shape      Output Shape     Param #          Trainable\n",
       "============================================================================================================================\n",
       "VisionTransformer (VisionTransformer)                        [1, 3, 224, 224] [1, 2]           768              Partial\n",
       "├─Conv2d (conv_proj)                                         [1, 3, 224, 224] [1, 768, 14, 14] (590,592)        False\n",
       "├─Encoder (encoder)                                          [1, 197, 768]    [1, 197, 768]    151,296          False\n",
       "│    └─Dropout (dropout)                                     [1, 197, 768]    [1, 197, 768]    --               --\n",
       "│    └─Sequential (layers)                                   [1, 197, 768]    [1, 197, 768]    --               False\n",
       "│    │    └─EncoderBlock (encoder_layer_0)                   [1, 197, 768]    [1, 197, 768]    (7,087,872)      False\n",
       "│    │    └─EncoderBlock (encoder_layer_1)                   [1, 197, 768]    [1, 197, 768]    (7,087,872)      False\n",
       "│    │    └─EncoderBlock (encoder_layer_2)                   [1, 197, 768]    [1, 197, 768]    (7,087,872)      False\n",
       "│    │    └─EncoderBlock (encoder_layer_3)                   [1, 197, 768]    [1, 197, 768]    (7,087,872)      False\n",
       "│    │    └─EncoderBlock (encoder_layer_4)                   [1, 197, 768]    [1, 197, 768]    (7,087,872)      False\n",
       "│    │    └─EncoderBlock (encoder_layer_5)                   [1, 197, 768]    [1, 197, 768]    (7,087,872)      False\n",
       "│    │    └─EncoderBlock (encoder_layer_6)                   [1, 197, 768]    [1, 197, 768]    (7,087,872)      False\n",
       "│    │    └─EncoderBlock (encoder_layer_7)                   [1, 197, 768]    [1, 197, 768]    (7,087,872)      False\n",
       "│    │    └─EncoderBlock (encoder_layer_8)                   [1, 197, 768]    [1, 197, 768]    (7,087,872)      False\n",
       "│    │    └─EncoderBlock (encoder_layer_9)                   [1, 197, 768]    [1, 197, 768]    (7,087,872)      False\n",
       "│    │    └─EncoderBlock (encoder_layer_10)                  [1, 197, 768]    [1, 197, 768]    (7,087,872)      False\n",
       "│    │    └─EncoderBlock (encoder_layer_11)                  [1, 197, 768]    [1, 197, 768]    (7,087,872)      False\n",
       "│    └─LayerNorm (ln)                                        [1, 197, 768]    [1, 197, 768]    (1,536)          False\n",
       "├─Linear (heads)                                             [1, 768]         [1, 2]           1,538            True\n",
       "============================================================================================================================\n",
       "Total params: 85,800,194\n",
       "Trainable params: 1,538\n",
       "Non-trainable params: 85,798,656\n",
       "Total mult-adds (M): 172.47\n",
       "============================================================================================================================\n",
       "Input size (MB): 0.60\n",
       "Forward/backward pass size (MB): 104.09\n",
       "Params size (MB): 229.20\n",
       "Estimated Total Size (MB): 333.89\n",
       "============================================================================================================================"
      ]
     },
     "execution_count": 12,
     "metadata": {},
     "output_type": "execute_result"
    }
   ],
   "source": [
    "# Create an instance of Transformerblock\n",
    "summary(model=undersampling_pretrained_vit,\n",
    "        input_size = (1,3, 224,224),\n",
    "        col_names = [\"input_size\", \"output_size\", \"num_params\", \"trainable\"],\n",
    "        col_width = 16,\n",
    "        row_settings=[\"var_names\"])"
   ]
  },
  {
   "cell_type": "code",
   "execution_count": 13,
   "id": "6a98bd248fe3078d",
   "metadata": {
    "ExecuteTime": {
     "end_time": "2024-10-31T01:46:54.343035300Z",
     "start_time": "2024-10-31T01:46:54.316033700Z"
    },
    "collapsed": false
   },
   "outputs": [
    {
     "data": {
      "text/plain": [
       "ImageClassification(\n",
       "    crop_size=[224]\n",
       "    resize_size=[256]\n",
       "    mean=[0.485, 0.456, 0.406]\n",
       "    std=[0.229, 0.224, 0.225]\n",
       "    interpolation=InterpolationMode.BILINEAR\n",
       ")"
      ]
     },
     "execution_count": 13,
     "metadata": {},
     "output_type": "execute_result"
    }
   ],
   "source": [
    "# Get automatic transforms from pretrained ViT weights\n",
    "vit_transforms = undersampling_pretrained_vit_weights.transforms()\n",
    "vit_transforms"
   ]
  },
  {
   "cell_type": "code",
   "execution_count": 14,
   "id": "4a48e261696c38a2",
   "metadata": {
    "ExecuteTime": {
     "end_time": "2024-10-31T01:46:54.349033800Z",
     "start_time": "2024-10-31T01:46:54.333036500Z"
    },
    "collapsed": false
   },
   "outputs": [],
   "source": [
    "#Set up dataloaders\n",
    "from pytorch_modules.pytorch_modules import data_setup\n",
    "undersampling_train_dataloader_pretrained, undersampling_test_dataloader_pretrained, class_names = data_setup.create_dataloaders(train_dir=undersampling_train_dir,\n",
    "                                                                                                     test_dir=undersampling_test_dir,\n",
    "                                                                                                     transform=vit_transforms,\n",
    "                                                                                                     batch_size=32)\n"
   ]
  },
  {
   "cell_type": "code",
   "execution_count": 15,
   "id": "b27511f0deb91e8d",
   "metadata": {
    "ExecuteTime": {
     "end_time": "2024-10-31T01:53:36.152163600Z",
     "start_time": "2024-10-31T01:46:54.345034300Z"
    },
    "collapsed": false
   },
   "outputs": [
    {
     "data": {
      "application/vnd.jupyter.widget-view+json": {
       "model_id": "5bb0d55af133493b858d3ca59e073d0f",
       "version_major": 2,
       "version_minor": 0
      },
      "text/plain": [
       "  0%|          | 0/10 [00:00<?, ?it/s]"
      ]
     },
     "metadata": {},
     "output_type": "display_data"
    },
    {
     "name": "stdout",
     "output_type": "stream",
     "text": [
      "Epoch: 1 | train_loss: 0.6341 | train_acc: 0.6467 | test_loss: 0.5481 | test_acc: 0.7679\n",
      "Epoch: 2 | train_loss: 0.4726 | train_acc: 0.8290 | test_loss: 0.4621 | test_acc: 0.8006\n",
      "Epoch: 3 | train_loss: 0.3777 | train_acc: 0.8984 | test_loss: 0.3839 | test_acc: 0.8839\n",
      "Epoch: 4 | train_loss: 0.3074 | train_acc: 0.9280 | test_loss: 0.3300 | test_acc: 0.9256\n",
      "Epoch: 5 | train_loss: 0.2702 | train_acc: 0.9453 | test_loss: 0.2918 | test_acc: 0.9360\n",
      "Epoch: 6 | train_loss: 0.2339 | train_acc: 0.9627 | test_loss: 0.2619 | test_acc: 0.9464\n",
      "Epoch: 7 | train_loss: 0.2017 | train_acc: 0.9766 | test_loss: 0.2360 | test_acc: 0.9464\n",
      "Epoch: 8 | train_loss: 0.1830 | train_acc: 0.9696 | test_loss: 0.2167 | test_acc: 0.9464\n",
      "Epoch: 9 | train_loss: 0.1681 | train_acc: 0.9792 | test_loss: 0.1986 | test_acc: 0.9464\n",
      "Epoch: 10 | train_loss: 0.1555 | train_acc: 0.9896 | test_loss: 0.1841 | test_acc: 0.9464\n"
     ]
    }
   ],
   "source": [
    "from pytorch_modules.pytorch_modules import engine\n",
    "\n",
    "optimizer = torch.optim.Adam(params=undersampling_pretrained_vit.parameters(),\n",
    "                             lr=1e-3)\n",
    "loss_fn = torch.nn.CrossEntropyLoss()\n",
    "\n",
    "set_seeds()\n",
    "undersampling_pretrained_vit_results = engine.train(model=undersampling_pretrained_vit,\n",
    "                                      train_dataloader=undersampling_train_dataloader_pretrained,\n",
    "                                      test_dataloader=undersampling_test_dataloader_pretrained,\n",
    "                                      optimizer=optimizer,\n",
    "                                      loss_fn=loss_fn,\n",
    "                                      epochs=10,\n",
    "                                      device=device)"
   ]
  },
  {
   "cell_type": "code",
   "execution_count": 17,
   "id": "1d2f85b820216a4",
   "metadata": {
    "ExecuteTime": {
     "end_time": "2024-10-31T01:53:48.238302900Z",
     "start_time": "2024-10-31T01:53:36.453961900Z"
    },
    "collapsed": false
   },
   "outputs": [
    {
     "data": {
      "image/png": "[encoded data removed]",
      "text/plain": [
       "<Figure size 640x480 with 2 Axes>"
      ]
     },
     "metadata": {},
     "output_type": "display_data"
    }
   ],
   "source": [
    "import torch\n",
    "import matplotlib.pyplot as plt\n",
    "from sklearn.metrics import confusion_matrix, ConfusionMatrixDisplay\n",
    "import numpy as np\n",
    "\n",
    "# Assuming you have a test DataLoader (test_dataloader_pretrained) and the model (pretrained_vit)\n",
    "# Ensure the model is in evaluation mode\n",
    "undersampling_pretrained_vit.eval()\n",
    "\n",
    "# Create lists to store true and predicted labels\n",
    "true_labels = []\n",
    "predicted_labels = []\n",
    "\n",
    "# Move model to the appropriate device (e.g., CPU or GPU)\n",
    "undersampling_pretrained_vit.to(device)\n",
    "\n",
    "# Disable gradient calculation for evaluation\n",
    "with torch.no_grad():\n",
    "    for data in undersampling_test_dataloader_pretrained:\n",
    "        inputs, labels = data\n",
    "        inputs, labels = inputs.to(device), labels.to(device)\n",
    "\n",
    "        # Forward pass\n",
    "        outputs = undersampling_pretrained_vit(inputs)\n",
    "        _, preds = torch.max(outputs, 1)\n",
    "\n",
    "        # Collect predictions and true labels\n",
    "        predicted_labels.extend(preds.cpu().numpy())\n",
    "        true_labels.extend(labels.cpu().numpy())\n",
    "\n",
    "# Compute confusion matrix\n",
    "conf_matrix = confusion_matrix(true_labels, predicted_labels)\n",
    "\n",
    "# Plot the confusion matrix\n",
    "disp = ConfusionMatrixDisplay(confusion_matrix=conf_matrix)\n",
    "disp.plot(cmap=plt.cm.Blues)\n",
    "plt.title('Confusion Matrix')\n",
    "plt.show()\n",
    "    "
   ]
  },
  {
   "cell_type": "code",
   "execution_count": 18,
   "id": "9f5c06c969e06283",
   "metadata": {
    "ExecuteTime": {
     "end_time": "2024-10-31T01:53:59.771707500Z",
     "start_time": "2024-10-31T01:53:48.239303700Z"
    },
    "collapsed": false
   },
   "outputs": [
    {
     "name": "stdout",
     "output_type": "stream",
     "text": [
      "F1 Score (Micro): 0.9456521739130435\n",
      "F1 Score (Macro): 0.9456457520973649\n",
      "Precision (Micro): 0.9456521739130435\n",
      "Precision (Macro): 0.9458628841607566\n",
      "Recall (Micro): 0.9456521739130435\n",
      "Recall (Macro): 0.9456521739130435\n"
     ]
    },
    {
     "data": {
      "image/png": "[encoded data removed]",
      "text/plain": [
       "<Figure size 640x480 with 1 Axes>"
      ]
     },
     "metadata": {},
     "output_type": "display_data"
    }
   ],
   "source": [
    "import torch\n",
    "import matplotlib.pyplot as plt\n",
    "from sklearn.metrics import f1_score, precision_score, recall_score, roc_curve, auc\n",
    "import numpy as np\n",
    "from sklearn.preprocessing import label_binarize\n",
    "\n",
    "# Assuming you have a test DataLoader (test_dataloader_pretrained) and the model (pretrained_vit)\n",
    "# Ensure the model is in evaluation mode\n",
    "undersampling_pretrained_vit.eval()\n",
    "\n",
    "# Create lists to store true and predicted labels\n",
    "true_labels = []\n",
    "predicted_labels = []\n",
    "all_probabilities = []\n",
    "\n",
    "# Move model to the appropriate device (e.g., CPU or GPU)\n",
    "undersampling_pretrained_vit.to(device)\n",
    "\n",
    "# Disable gradient calculation for evaluation\n",
    "with torch.no_grad():\n",
    "    for data in undersampling_test_dataloader_pretrained:\n",
    "        inputs, labels = data\n",
    "        inputs, labels = inputs.to(device), labels.to(device)\n",
    "\n",
    "        # Forward pass\n",
    "        outputs = undersampling_pretrained_vit(inputs)\n",
    "        _, preds = torch.max(outputs, 1)\n",
    "\n",
    "        # Collect predictions, true labels, and predicted probabilities\n",
    "        predicted_labels.extend(preds.cpu().numpy())\n",
    "        true_labels.extend(labels.cpu().numpy())\n",
    "        all_probabilities.extend(torch.softmax(outputs, dim=1).cpu().numpy())\n",
    "\n",
    "# Calculate F1 score (micro and macro)\n",
    "f1_micro = f1_score(true_labels, predicted_labels, average='micro')\n",
    "f1_macro = f1_score(true_labels, predicted_labels, average='macro')\n",
    "print(f\"F1 Score (Micro): {f1_micro}\")\n",
    "print(f\"F1 Score (Macro): {f1_macro}\")\n",
    "\n",
    "# Calculate Precision and Recall\n",
    "precision_micro = precision_score(true_labels, predicted_labels, average='micro')\n",
    "precision_macro = precision_score(true_labels, predicted_labels, average='macro')\n",
    "recall_micro = recall_score(true_labels, predicted_labels, average='micro')\n",
    "recall_macro = recall_score(true_labels, predicted_labels, average='macro')\n",
    "\n",
    "print(f\"Precision (Micro): {precision_micro}\")\n",
    "print(f\"Precision (Macro): {precision_macro}\")\n",
    "print(f\"Recall (Micro): {recall_micro}\")\n",
    "print(f\"Recall (Macro): {recall_macro}\")\n",
    "\n",
    "# Determine if it's binary or multi-class\n",
    "num_classes = len(np.unique(true_labels))\n",
    "\n",
    "if num_classes == 2:\n",
    "    # Binary classification: Use only one ROC curve\n",
    "    fpr, tpr, _ = roc_curve(true_labels, np.array(all_probabilities)[:, 1])\n",
    "    roc_auc = auc(fpr, tpr)\n",
    "\n",
    "    # Plot ROC curve for binary classification\n",
    "    plt.plot(fpr, tpr, label=f'ROC curve (AUC = {roc_auc:.2f})')\n",
    "else:\n",
    "    # Multi-class classification: ROC curve for each class\n",
    "    true_labels_binarized = label_binarize(true_labels, classes=np.arange(num_classes))\n",
    "\n",
    "    # Plot ROC curve for each class\n",
    "    for i in range(num_classes):\n",
    "        fpr, tpr, _ = roc_curve(true_labels_binarized[:, i], np.array(all_probabilities)[:, i])\n",
    "        roc_auc = auc(fpr, tpr)\n",
    "        plt.plot(fpr, tpr, label=f'Class {i} (AUC = {roc_auc:.2f})')\n",
    "\n",
    "# Plot settings\n",
    "plt.plot([0, 1], [0, 1], 'k--', lw=2)\n",
    "plt.xlim([0.0, 1.0])\n",
    "plt.ylim([0.0, 1.05])\n",
    "plt.xlabel('False Positive Rate')\n",
    "plt.ylabel('True Positive Rate')\n",
    "plt.title('ROC Curve')\n",
    "plt.legend(loc=\"lower right\")\n",
    "plt.show()"
   ]
  }
 ],
 "metadata": {
  "kernelspec": {
   "display_name": "Python 3",
   "language": "python",
   "name": "python3"
  },
  "language_info": {
   "codemirror_mode": {
    "name": "ipython",
    "version": 2
   },
   "file_extension": ".py",
   "mimetype": "text/x-python",
   "name": "python",
   "nbconvert_exporter": "python",
   "pygments_lexer": "ipython2",
   "version": "2.7.6"
  }
 },
 "nbformat": 4,
 "nbformat_minor": 5
}
